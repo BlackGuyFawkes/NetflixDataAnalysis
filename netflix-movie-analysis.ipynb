{
 "cells": [
  {
   "cell_type": "markdown",
   "id": "0465aa41",
   "metadata": {
    "papermill": {
     "duration": 0.013809,
     "end_time": "2022-08-12T02:10:09.559592",
     "exception": false,
     "start_time": "2022-08-12T02:10:09.545783",
     "status": "completed"
    },
    "tags": []
   },
   "source": [
    "# By Maduako Akachi"
   ]
  },
  {
   "cell_type": "markdown",
   "id": "78702190",
   "metadata": {
    "papermill": {
     "duration": 0.011841,
     "end_time": "2022-08-12T02:10:09.583776",
     "exception": false,
     "start_time": "2022-08-12T02:10:09.571935",
     "status": "completed"
    },
    "tags": []
   },
   "source": [
    "# Introduction\n",
    "## Dataset Description\n",
    "In this project, I will be analyzing a dataset containing information about movies from Data Science Lovers on Youtube. The dataset can be found here (https://drive.google.com/file/d/1p630pDcSkbQp_WXig8PeEVevZtSo4GQK/view)"
   ]
  },
  {
   "cell_type": "markdown",
   "id": "d4d64c66",
   "metadata": {
    "papermill": {
     "duration": 0.01346,
     "end_time": "2022-08-12T02:10:09.609375",
     "exception": false,
     "start_time": "2022-08-12T02:10:09.595915",
     "status": "completed"
    },
    "tags": []
   },
   "source": [
    "## Question(s) for Analysis\n",
    "\n",
    "1. For 'House of Cards', what is the Show Id and Who is the Director of this show ?\n",
    "2. In which year the highest number of the TV Shows & Movies were released ? Show with Bar Graph.\n",
    "3. How many Movies & TV Shows are in the dataset ? Show with Bar Graph.\n",
    "4. Show all the Movies that were released in year 2000.\n",
    "5. Show only the Titles of all TV Shows that were released in India only.\n",
    "6. Show Top 10 Directors, who gave the highest number of TV Shows & Movies to Netflix ?\n",
    "7. Show all the Records, where \"Category is Movie and Type is Comedies\" or \"Country is United Kingdom\".\n",
    "8. In how many movies/shows, Tom Cruise was cast ?\n",
    "9. What are the different Ratings defined by Netflix ?\n",
    "10. How many Movies got the 'TV-14' rating, in Canada ?\n",
    "11. How many TV Shows got the 'R' rating, after year 2018 ?\n",
    "12. What is the maximum duration of a Movie/Show on Netflix ?\n",
    "13. Which individual country has the Highest No. of TV Shows ?\n",
    "14. How can we sort the dataset by Year ?"
   ]
  },
  {
   "cell_type": "code",
   "execution_count": 1,
   "id": "c2497b77",
   "metadata": {
    "execution": {
     "iopub.execute_input": "2022-08-12T02:10:09.635735Z",
     "iopub.status.busy": "2022-08-12T02:10:09.635274Z",
     "iopub.status.idle": "2022-08-12T02:10:10.959164Z",
     "shell.execute_reply": "2022-08-12T02:10:10.957811Z"
    },
    "papermill": {
     "duration": 1.34063,
     "end_time": "2022-08-12T02:10:10.962227",
     "exception": false,
     "start_time": "2022-08-12T02:10:09.621597",
     "status": "completed"
    },
    "tags": []
   },
   "outputs": [],
   "source": [
    "#Import libraries\n",
    "import pandas as pd\n",
    "import matplotlib.pyplot as plt\n",
    "import seaborn as sns\n",
    "%matplotlib inline"
   ]
  },
  {
   "cell_type": "code",
   "execution_count": 2,
   "id": "f6755b80",
   "metadata": {
    "execution": {
     "iopub.execute_input": "2022-08-12T02:10:10.990524Z",
     "iopub.status.busy": "2022-08-12T02:10:10.989287Z",
     "iopub.status.idle": "2022-08-12T02:10:11.134451Z",
     "shell.execute_reply": "2022-08-12T02:10:11.133226Z"
    },
    "papermill": {
     "duration": 0.162855,
     "end_time": "2022-08-12T02:10:11.137484",
     "exception": false,
     "start_time": "2022-08-12T02:10:10.974629",
     "status": "completed"
    },
    "tags": []
   },
   "outputs": [
    {
     "data": {
      "text/html": [
       "<div>\n",
       "<style scoped>\n",
       "    .dataframe tbody tr th:only-of-type {\n",
       "        vertical-align: middle;\n",
       "    }\n",
       "\n",
       "    .dataframe tbody tr th {\n",
       "        vertical-align: top;\n",
       "    }\n",
       "\n",
       "    .dataframe thead th {\n",
       "        text-align: right;\n",
       "    }\n",
       "</style>\n",
       "<table border=\"1\" class=\"dataframe\">\n",
       "  <thead>\n",
       "    <tr style=\"text-align: right;\">\n",
       "      <th></th>\n",
       "      <th>Show_Id</th>\n",
       "      <th>Category</th>\n",
       "      <th>Title</th>\n",
       "      <th>Director</th>\n",
       "      <th>Cast</th>\n",
       "      <th>Country</th>\n",
       "      <th>Release_Date</th>\n",
       "      <th>Rating</th>\n",
       "      <th>Duration</th>\n",
       "      <th>Type</th>\n",
       "      <th>Description</th>\n",
       "    </tr>\n",
       "  </thead>\n",
       "  <tbody>\n",
       "    <tr>\n",
       "      <th>0</th>\n",
       "      <td>s1</td>\n",
       "      <td>TV Show</td>\n",
       "      <td>3%</td>\n",
       "      <td>NaN</td>\n",
       "      <td>João Miguel, Bianca Comparato, Michel Gomes, R...</td>\n",
       "      <td>Brazil</td>\n",
       "      <td>August 14, 2020</td>\n",
       "      <td>TV-MA</td>\n",
       "      <td>4 Seasons</td>\n",
       "      <td>International TV Shows, TV Dramas, TV Sci-Fi &amp;...</td>\n",
       "      <td>In a future where the elite inhabit an island ...</td>\n",
       "    </tr>\n",
       "    <tr>\n",
       "      <th>1</th>\n",
       "      <td>s2</td>\n",
       "      <td>Movie</td>\n",
       "      <td>07:19</td>\n",
       "      <td>Jorge Michel Grau</td>\n",
       "      <td>Demián Bichir, Héctor Bonilla, Oscar Serrano, ...</td>\n",
       "      <td>Mexico</td>\n",
       "      <td>December 23, 2016</td>\n",
       "      <td>TV-MA</td>\n",
       "      <td>93 min</td>\n",
       "      <td>Dramas, International Movies</td>\n",
       "      <td>After a devastating earthquake hits Mexico Cit...</td>\n",
       "    </tr>\n",
       "    <tr>\n",
       "      <th>2</th>\n",
       "      <td>s3</td>\n",
       "      <td>Movie</td>\n",
       "      <td>23:59</td>\n",
       "      <td>Gilbert Chan</td>\n",
       "      <td>Tedd Chan, Stella Chung, Henley Hii, Lawrence ...</td>\n",
       "      <td>Singapore</td>\n",
       "      <td>December 20, 2018</td>\n",
       "      <td>R</td>\n",
       "      <td>78 min</td>\n",
       "      <td>Horror Movies, International Movies</td>\n",
       "      <td>When an army recruit is found dead, his fellow...</td>\n",
       "    </tr>\n",
       "    <tr>\n",
       "      <th>3</th>\n",
       "      <td>s4</td>\n",
       "      <td>Movie</td>\n",
       "      <td>9</td>\n",
       "      <td>Shane Acker</td>\n",
       "      <td>Elijah Wood, John C. Reilly, Jennifer Connelly...</td>\n",
       "      <td>United States</td>\n",
       "      <td>November 16, 2017</td>\n",
       "      <td>PG-13</td>\n",
       "      <td>80 min</td>\n",
       "      <td>Action &amp; Adventure, Independent Movies, Sci-Fi...</td>\n",
       "      <td>In a postapocalyptic world, rag-doll robots hi...</td>\n",
       "    </tr>\n",
       "    <tr>\n",
       "      <th>4</th>\n",
       "      <td>s5</td>\n",
       "      <td>Movie</td>\n",
       "      <td>21</td>\n",
       "      <td>Robert Luketic</td>\n",
       "      <td>Jim Sturgess, Kevin Spacey, Kate Bosworth, Aar...</td>\n",
       "      <td>United States</td>\n",
       "      <td>January 1, 2020</td>\n",
       "      <td>PG-13</td>\n",
       "      <td>123 min</td>\n",
       "      <td>Dramas</td>\n",
       "      <td>A brilliant group of students become card-coun...</td>\n",
       "    </tr>\n",
       "  </tbody>\n",
       "</table>\n",
       "</div>"
      ],
      "text/plain": [
       "  Show_Id Category  Title           Director  \\\n",
       "0      s1  TV Show     3%                NaN   \n",
       "1      s2    Movie  07:19  Jorge Michel Grau   \n",
       "2      s3    Movie  23:59       Gilbert Chan   \n",
       "3      s4    Movie      9        Shane Acker   \n",
       "4      s5    Movie     21     Robert Luketic   \n",
       "\n",
       "                                                Cast        Country  \\\n",
       "0  João Miguel, Bianca Comparato, Michel Gomes, R...         Brazil   \n",
       "1  Demián Bichir, Héctor Bonilla, Oscar Serrano, ...         Mexico   \n",
       "2  Tedd Chan, Stella Chung, Henley Hii, Lawrence ...      Singapore   \n",
       "3  Elijah Wood, John C. Reilly, Jennifer Connelly...  United States   \n",
       "4  Jim Sturgess, Kevin Spacey, Kate Bosworth, Aar...  United States   \n",
       "\n",
       "        Release_Date Rating   Duration  \\\n",
       "0    August 14, 2020  TV-MA  4 Seasons   \n",
       "1  December 23, 2016  TV-MA     93 min   \n",
       "2  December 20, 2018      R     78 min   \n",
       "3  November 16, 2017  PG-13     80 min   \n",
       "4    January 1, 2020  PG-13    123 min   \n",
       "\n",
       "                                                Type  \\\n",
       "0  International TV Shows, TV Dramas, TV Sci-Fi &...   \n",
       "1                       Dramas, International Movies   \n",
       "2                Horror Movies, International Movies   \n",
       "3  Action & Adventure, Independent Movies, Sci-Fi...   \n",
       "4                                             Dramas   \n",
       "\n",
       "                                         Description  \n",
       "0  In a future where the elite inhabit an island ...  \n",
       "1  After a devastating earthquake hits Mexico Cit...  \n",
       "2  When an army recruit is found dead, his fellow...  \n",
       "3  In a postapocalyptic world, rag-doll robots hi...  \n",
       "4  A brilliant group of students become card-coun...  "
      ]
     },
     "execution_count": 2,
     "metadata": {},
     "output_type": "execute_result"
    }
   ],
   "source": [
    "#Load and read the dataset into panda dataframe\n",
    "#Read statistics\n",
    "Netflix_df = pd.read_csv('../input/netflex-analysis/Netflix.csv')\n",
    "Netflix_df.head()"
   ]
  },
  {
   "cell_type": "code",
   "execution_count": 3,
   "id": "a6cb04e0",
   "metadata": {
    "execution": {
     "iopub.execute_input": "2022-08-12T02:10:11.164779Z",
     "iopub.status.busy": "2022-08-12T02:10:11.164391Z",
     "iopub.status.idle": "2022-08-12T02:10:11.199465Z",
     "shell.execute_reply": "2022-08-12T02:10:11.198491Z"
    },
    "papermill": {
     "duration": 0.052043,
     "end_time": "2022-08-12T02:10:11.202323",
     "exception": false,
     "start_time": "2022-08-12T02:10:11.150280",
     "status": "completed"
    },
    "tags": []
   },
   "outputs": [
    {
     "name": "stdout",
     "output_type": "stream",
     "text": [
      "<class 'pandas.core.frame.DataFrame'>\n",
      "RangeIndex: 7789 entries, 0 to 7788\n",
      "Data columns (total 11 columns):\n",
      " #   Column        Non-Null Count  Dtype \n",
      "---  ------        --------------  ----- \n",
      " 0   Show_Id       7789 non-null   object\n",
      " 1   Category      7789 non-null   object\n",
      " 2   Title         7789 non-null   object\n",
      " 3   Director      5401 non-null   object\n",
      " 4   Cast          7071 non-null   object\n",
      " 5   Country       7282 non-null   object\n",
      " 6   Release_Date  7779 non-null   object\n",
      " 7   Rating        7782 non-null   object\n",
      " 8   Duration      7789 non-null   object\n",
      " 9   Type          7789 non-null   object\n",
      " 10  Description   7789 non-null   object\n",
      "dtypes: object(11)\n",
      "memory usage: 669.5+ KB\n"
     ]
    }
   ],
   "source": [
    "#Get more information about the dataset\n",
    "Netflix_df.info()"
   ]
  },
  {
   "cell_type": "code",
   "execution_count": 4,
   "id": "b0520af5",
   "metadata": {
    "execution": {
     "iopub.execute_input": "2022-08-12T02:10:11.231439Z",
     "iopub.status.busy": "2022-08-12T02:10:11.230745Z",
     "iopub.status.idle": "2022-08-12T02:10:11.244537Z",
     "shell.execute_reply": "2022-08-12T02:10:11.243332Z"
    },
    "papermill": {
     "duration": 0.030522,
     "end_time": "2022-08-12T02:10:11.246830",
     "exception": false,
     "start_time": "2022-08-12T02:10:11.216308",
     "status": "completed"
    },
    "tags": []
   },
   "outputs": [
    {
     "data": {
      "text/plain": [
       "Show_Id            0\n",
       "Category           0\n",
       "Title              0\n",
       "Director        2388\n",
       "Cast             718\n",
       "Country          507\n",
       "Release_Date      10\n",
       "Rating             7\n",
       "Duration           0\n",
       "Type               0\n",
       "Description        0\n",
       "dtype: int64"
      ]
     },
     "execution_count": 4,
     "metadata": {},
     "output_type": "execute_result"
    }
   ],
   "source": [
    "#Check for missing values\n",
    "Netflix_df.isnull().sum()"
   ]
  },
  {
   "cell_type": "markdown",
   "id": "fe6baf76",
   "metadata": {
    "papermill": {
     "duration": 0.012639,
     "end_time": "2022-08-12T02:10:11.272346",
     "exception": false,
     "start_time": "2022-08-12T02:10:11.259707",
     "status": "completed"
    },
    "tags": []
   },
   "source": [
    "From the information gathered from the cells above, there are a total of 7789 rows and 11 columns in this dataframe.\n",
    "\n",
    "There are missing values for the Director, Cast, Country, Release_Date and Rating columns. Since they are all objects, filling it up with mean. The missing values can be replaced with the mode, but becasue of the nature of the dataset, it will be better to remove the missing values completely.\n",
    "\n",
    "This will be done during our data cleaning."
   ]
  },
  {
   "cell_type": "code",
   "execution_count": 5,
   "id": "6a066661",
   "metadata": {
    "execution": {
     "iopub.execute_input": "2022-08-12T02:10:11.300391Z",
     "iopub.status.busy": "2022-08-12T02:10:11.299701Z",
     "iopub.status.idle": "2022-08-12T02:10:11.305765Z",
     "shell.execute_reply": "2022-08-12T02:10:11.304888Z"
    },
    "papermill": {
     "duration": 0.022983,
     "end_time": "2022-08-12T02:10:11.308166",
     "exception": false,
     "start_time": "2022-08-12T02:10:11.285183",
     "status": "completed"
    },
    "tags": []
   },
   "outputs": [],
   "source": [
    "#Make a copy of the dataframe specifically for dropping the null values\n",
    "NoNullNetflix_df=Netflix_df.copy()"
   ]
  },
  {
   "cell_type": "code",
   "execution_count": 6,
   "id": "24a60c0c",
   "metadata": {
    "execution": {
     "iopub.execute_input": "2022-08-12T02:10:11.338299Z",
     "iopub.status.busy": "2022-08-12T02:10:11.337725Z",
     "iopub.status.idle": "2022-08-12T02:10:11.354022Z",
     "shell.execute_reply": "2022-08-12T02:10:11.352457Z"
    },
    "papermill": {
     "duration": 0.03623,
     "end_time": "2022-08-12T02:10:11.357252",
     "exception": false,
     "start_time": "2022-08-12T02:10:11.321022",
     "status": "completed"
    },
    "tags": []
   },
   "outputs": [],
   "source": [
    "#Drop null values\n",
    "NoNullNetflix_df.dropna(inplace=True)"
   ]
  },
  {
   "cell_type": "code",
   "execution_count": 7,
   "id": "afc3b6cc",
   "metadata": {
    "execution": {
     "iopub.execute_input": "2022-08-12T02:10:11.398301Z",
     "iopub.status.busy": "2022-08-12T02:10:11.397401Z",
     "iopub.status.idle": "2022-08-12T02:10:11.410868Z",
     "shell.execute_reply": "2022-08-12T02:10:11.409685Z"
    },
    "papermill": {
     "duration": 0.039485,
     "end_time": "2022-08-12T02:10:11.414470",
     "exception": false,
     "start_time": "2022-08-12T02:10:11.374985",
     "status": "completed"
    },
    "tags": []
   },
   "outputs": [
    {
     "data": {
      "text/plain": [
       "Show_Id         0\n",
       "Category        0\n",
       "Title           0\n",
       "Director        0\n",
       "Cast            0\n",
       "Country         0\n",
       "Release_Date    0\n",
       "Rating          0\n",
       "Duration        0\n",
       "Type            0\n",
       "Description     0\n",
       "dtype: int64"
      ]
     },
     "execution_count": 7,
     "metadata": {},
     "output_type": "execute_result"
    }
   ],
   "source": [
    "#Check again for missing values\n",
    "NoNullNetflix_df.isnull().sum()"
   ]
  },
  {
   "cell_type": "code",
   "execution_count": 8,
   "id": "cc5c8e27",
   "metadata": {
    "execution": {
     "iopub.execute_input": "2022-08-12T02:10:11.455851Z",
     "iopub.status.busy": "2022-08-12T02:10:11.455390Z",
     "iopub.status.idle": "2022-08-12T02:10:11.490960Z",
     "shell.execute_reply": "2022-08-12T02:10:11.489716Z"
    },
    "papermill": {
     "duration": 0.060878,
     "end_time": "2022-08-12T02:10:11.493466",
     "exception": false,
     "start_time": "2022-08-12T02:10:11.432588",
     "status": "completed"
    },
    "tags": []
   },
   "outputs": [
    {
     "data": {
      "text/html": [
       "<div>\n",
       "<style scoped>\n",
       "    .dataframe tbody tr th:only-of-type {\n",
       "        vertical-align: middle;\n",
       "    }\n",
       "\n",
       "    .dataframe tbody tr th {\n",
       "        vertical-align: top;\n",
       "    }\n",
       "\n",
       "    .dataframe thead th {\n",
       "        text-align: right;\n",
       "    }\n",
       "</style>\n",
       "<table border=\"1\" class=\"dataframe\">\n",
       "  <thead>\n",
       "    <tr style=\"text-align: right;\">\n",
       "      <th></th>\n",
       "      <th>Show_Id</th>\n",
       "      <th>Category</th>\n",
       "      <th>Title</th>\n",
       "      <th>Director</th>\n",
       "      <th>Cast</th>\n",
       "      <th>Country</th>\n",
       "      <th>Release_Date</th>\n",
       "      <th>Rating</th>\n",
       "      <th>Duration</th>\n",
       "      <th>Type</th>\n",
       "      <th>Description</th>\n",
       "    </tr>\n",
       "  </thead>\n",
       "  <tbody>\n",
       "    <tr>\n",
       "      <th>1</th>\n",
       "      <td>s2</td>\n",
       "      <td>Movie</td>\n",
       "      <td>07:19</td>\n",
       "      <td>Jorge Michel Grau</td>\n",
       "      <td>Demián Bichir, Héctor Bonilla, Oscar Serrano, ...</td>\n",
       "      <td>Mexico</td>\n",
       "      <td>December 23, 2016</td>\n",
       "      <td>TV-MA</td>\n",
       "      <td>93 min</td>\n",
       "      <td>Dramas, International Movies</td>\n",
       "      <td>After a devastating earthquake hits Mexico Cit...</td>\n",
       "    </tr>\n",
       "    <tr>\n",
       "      <th>2</th>\n",
       "      <td>s3</td>\n",
       "      <td>Movie</td>\n",
       "      <td>23:59</td>\n",
       "      <td>Gilbert Chan</td>\n",
       "      <td>Tedd Chan, Stella Chung, Henley Hii, Lawrence ...</td>\n",
       "      <td>Singapore</td>\n",
       "      <td>December 20, 2018</td>\n",
       "      <td>R</td>\n",
       "      <td>78 min</td>\n",
       "      <td>Horror Movies, International Movies</td>\n",
       "      <td>When an army recruit is found dead, his fellow...</td>\n",
       "    </tr>\n",
       "    <tr>\n",
       "      <th>3</th>\n",
       "      <td>s4</td>\n",
       "      <td>Movie</td>\n",
       "      <td>9</td>\n",
       "      <td>Shane Acker</td>\n",
       "      <td>Elijah Wood, John C. Reilly, Jennifer Connelly...</td>\n",
       "      <td>United States</td>\n",
       "      <td>November 16, 2017</td>\n",
       "      <td>PG-13</td>\n",
       "      <td>80 min</td>\n",
       "      <td>Action &amp; Adventure, Independent Movies, Sci-Fi...</td>\n",
       "      <td>In a postapocalyptic world, rag-doll robots hi...</td>\n",
       "    </tr>\n",
       "    <tr>\n",
       "      <th>4</th>\n",
       "      <td>s5</td>\n",
       "      <td>Movie</td>\n",
       "      <td>21</td>\n",
       "      <td>Robert Luketic</td>\n",
       "      <td>Jim Sturgess, Kevin Spacey, Kate Bosworth, Aar...</td>\n",
       "      <td>United States</td>\n",
       "      <td>January 1, 2020</td>\n",
       "      <td>PG-13</td>\n",
       "      <td>123 min</td>\n",
       "      <td>Dramas</td>\n",
       "      <td>A brilliant group of students become card-coun...</td>\n",
       "    </tr>\n",
       "    <tr>\n",
       "      <th>5</th>\n",
       "      <td>s6</td>\n",
       "      <td>TV Show</td>\n",
       "      <td>46</td>\n",
       "      <td>Serdar Akar</td>\n",
       "      <td>Erdal Beşikçioğlu, Yasemin Allen, Melis Birkan...</td>\n",
       "      <td>Turkey</td>\n",
       "      <td>July 1, 2017</td>\n",
       "      <td>TV-MA</td>\n",
       "      <td>1 Season</td>\n",
       "      <td>International TV Shows, TV Dramas, TV Mysteries</td>\n",
       "      <td>A genetics professor experiments with a treatm...</td>\n",
       "    </tr>\n",
       "  </tbody>\n",
       "</table>\n",
       "</div>"
      ],
      "text/plain": [
       "  Show_Id Category  Title           Director  \\\n",
       "1      s2    Movie  07:19  Jorge Michel Grau   \n",
       "2      s3    Movie  23:59       Gilbert Chan   \n",
       "3      s4    Movie      9        Shane Acker   \n",
       "4      s5    Movie     21     Robert Luketic   \n",
       "5      s6  TV Show     46        Serdar Akar   \n",
       "\n",
       "                                                Cast        Country  \\\n",
       "1  Demián Bichir, Héctor Bonilla, Oscar Serrano, ...         Mexico   \n",
       "2  Tedd Chan, Stella Chung, Henley Hii, Lawrence ...      Singapore   \n",
       "3  Elijah Wood, John C. Reilly, Jennifer Connelly...  United States   \n",
       "4  Jim Sturgess, Kevin Spacey, Kate Bosworth, Aar...  United States   \n",
       "5  Erdal Beşikçioğlu, Yasemin Allen, Melis Birkan...         Turkey   \n",
       "\n",
       "        Release_Date Rating  Duration  \\\n",
       "1  December 23, 2016  TV-MA    93 min   \n",
       "2  December 20, 2018      R    78 min   \n",
       "3  November 16, 2017  PG-13    80 min   \n",
       "4    January 1, 2020  PG-13   123 min   \n",
       "5       July 1, 2017  TV-MA  1 Season   \n",
       "\n",
       "                                                Type  \\\n",
       "1                       Dramas, International Movies   \n",
       "2                Horror Movies, International Movies   \n",
       "3  Action & Adventure, Independent Movies, Sci-Fi...   \n",
       "4                                             Dramas   \n",
       "5    International TV Shows, TV Dramas, TV Mysteries   \n",
       "\n",
       "                                         Description  \n",
       "1  After a devastating earthquake hits Mexico Cit...  \n",
       "2  When an army recruit is found dead, his fellow...  \n",
       "3  In a postapocalyptic world, rag-doll robots hi...  \n",
       "4  A brilliant group of students become card-coun...  \n",
       "5  A genetics professor experiments with a treatm...  "
      ]
     },
     "metadata": {},
     "output_type": "display_data"
    },
    {
     "data": {
      "text/html": [
       "<div>\n",
       "<style scoped>\n",
       "    .dataframe tbody tr th:only-of-type {\n",
       "        vertical-align: middle;\n",
       "    }\n",
       "\n",
       "    .dataframe tbody tr th {\n",
       "        vertical-align: top;\n",
       "    }\n",
       "\n",
       "    .dataframe thead th {\n",
       "        text-align: right;\n",
       "    }\n",
       "</style>\n",
       "<table border=\"1\" class=\"dataframe\">\n",
       "  <thead>\n",
       "    <tr style=\"text-align: right;\">\n",
       "      <th></th>\n",
       "      <th>Show_Id</th>\n",
       "      <th>Category</th>\n",
       "      <th>Title</th>\n",
       "      <th>Director</th>\n",
       "      <th>Cast</th>\n",
       "      <th>Country</th>\n",
       "      <th>Release_Date</th>\n",
       "      <th>Rating</th>\n",
       "      <th>Duration</th>\n",
       "      <th>Type</th>\n",
       "      <th>Description</th>\n",
       "    </tr>\n",
       "  </thead>\n",
       "  <tbody>\n",
       "    <tr>\n",
       "      <th>0</th>\n",
       "      <td>s1</td>\n",
       "      <td>TV Show</td>\n",
       "      <td>3%</td>\n",
       "      <td>NaN</td>\n",
       "      <td>João Miguel, Bianca Comparato, Michel Gomes, R...</td>\n",
       "      <td>Brazil</td>\n",
       "      <td>August 14, 2020</td>\n",
       "      <td>TV-MA</td>\n",
       "      <td>4 Seasons</td>\n",
       "      <td>International TV Shows, TV Dramas, TV Sci-Fi &amp;...</td>\n",
       "      <td>In a future where the elite inhabit an island ...</td>\n",
       "    </tr>\n",
       "    <tr>\n",
       "      <th>1</th>\n",
       "      <td>s2</td>\n",
       "      <td>Movie</td>\n",
       "      <td>07:19</td>\n",
       "      <td>Jorge Michel Grau</td>\n",
       "      <td>Demián Bichir, Héctor Bonilla, Oscar Serrano, ...</td>\n",
       "      <td>Mexico</td>\n",
       "      <td>December 23, 2016</td>\n",
       "      <td>TV-MA</td>\n",
       "      <td>93 min</td>\n",
       "      <td>Dramas, International Movies</td>\n",
       "      <td>After a devastating earthquake hits Mexico Cit...</td>\n",
       "    </tr>\n",
       "    <tr>\n",
       "      <th>2</th>\n",
       "      <td>s3</td>\n",
       "      <td>Movie</td>\n",
       "      <td>23:59</td>\n",
       "      <td>Gilbert Chan</td>\n",
       "      <td>Tedd Chan, Stella Chung, Henley Hii, Lawrence ...</td>\n",
       "      <td>Singapore</td>\n",
       "      <td>December 20, 2018</td>\n",
       "      <td>R</td>\n",
       "      <td>78 min</td>\n",
       "      <td>Horror Movies, International Movies</td>\n",
       "      <td>When an army recruit is found dead, his fellow...</td>\n",
       "    </tr>\n",
       "    <tr>\n",
       "      <th>3</th>\n",
       "      <td>s4</td>\n",
       "      <td>Movie</td>\n",
       "      <td>9</td>\n",
       "      <td>Shane Acker</td>\n",
       "      <td>Elijah Wood, John C. Reilly, Jennifer Connelly...</td>\n",
       "      <td>United States</td>\n",
       "      <td>November 16, 2017</td>\n",
       "      <td>PG-13</td>\n",
       "      <td>80 min</td>\n",
       "      <td>Action &amp; Adventure, Independent Movies, Sci-Fi...</td>\n",
       "      <td>In a postapocalyptic world, rag-doll robots hi...</td>\n",
       "    </tr>\n",
       "    <tr>\n",
       "      <th>4</th>\n",
       "      <td>s5</td>\n",
       "      <td>Movie</td>\n",
       "      <td>21</td>\n",
       "      <td>Robert Luketic</td>\n",
       "      <td>Jim Sturgess, Kevin Spacey, Kate Bosworth, Aar...</td>\n",
       "      <td>United States</td>\n",
       "      <td>January 1, 2020</td>\n",
       "      <td>PG-13</td>\n",
       "      <td>123 min</td>\n",
       "      <td>Dramas</td>\n",
       "      <td>A brilliant group of students become card-coun...</td>\n",
       "    </tr>\n",
       "  </tbody>\n",
       "</table>\n",
       "</div>"
      ],
      "text/plain": [
       "  Show_Id Category  Title           Director  \\\n",
       "0      s1  TV Show     3%                NaN   \n",
       "1      s2    Movie  07:19  Jorge Michel Grau   \n",
       "2      s3    Movie  23:59       Gilbert Chan   \n",
       "3      s4    Movie      9        Shane Acker   \n",
       "4      s5    Movie     21     Robert Luketic   \n",
       "\n",
       "                                                Cast        Country  \\\n",
       "0  João Miguel, Bianca Comparato, Michel Gomes, R...         Brazil   \n",
       "1  Demián Bichir, Héctor Bonilla, Oscar Serrano, ...         Mexico   \n",
       "2  Tedd Chan, Stella Chung, Henley Hii, Lawrence ...      Singapore   \n",
       "3  Elijah Wood, John C. Reilly, Jennifer Connelly...  United States   \n",
       "4  Jim Sturgess, Kevin Spacey, Kate Bosworth, Aar...  United States   \n",
       "\n",
       "        Release_Date Rating   Duration  \\\n",
       "0    August 14, 2020  TV-MA  4 Seasons   \n",
       "1  December 23, 2016  TV-MA     93 min   \n",
       "2  December 20, 2018      R     78 min   \n",
       "3  November 16, 2017  PG-13     80 min   \n",
       "4    January 1, 2020  PG-13    123 min   \n",
       "\n",
       "                                                Type  \\\n",
       "0  International TV Shows, TV Dramas, TV Sci-Fi &...   \n",
       "1                       Dramas, International Movies   \n",
       "2                Horror Movies, International Movies   \n",
       "3  Action & Adventure, Independent Movies, Sci-Fi...   \n",
       "4                                             Dramas   \n",
       "\n",
       "                                         Description  \n",
       "0  In a future where the elite inhabit an island ...  \n",
       "1  After a devastating earthquake hits Mexico Cit...  \n",
       "2  When an army recruit is found dead, his fellow...  \n",
       "3  In a postapocalyptic world, rag-doll robots hi...  \n",
       "4  A brilliant group of students become card-coun...  "
      ]
     },
     "metadata": {},
     "output_type": "display_data"
    }
   ],
   "source": [
    "display(NoNullNetflix_df.head())\n",
    "display(Netflix_df.head())"
   ]
  },
  {
   "cell_type": "code",
   "execution_count": 9,
   "id": "898480d9",
   "metadata": {
    "execution": {
     "iopub.execute_input": "2022-08-12T02:10:11.523135Z",
     "iopub.status.busy": "2022-08-12T02:10:11.522672Z",
     "iopub.status.idle": "2022-08-12T02:10:11.549114Z",
     "shell.execute_reply": "2022-08-12T02:10:11.548174Z"
    },
    "papermill": {
     "duration": 0.044021,
     "end_time": "2022-08-12T02:10:11.551670",
     "exception": false,
     "start_time": "2022-08-12T02:10:11.507649",
     "status": "completed"
    },
    "tags": []
   },
   "outputs": [
    {
     "data": {
      "text/plain": [
       "2"
      ]
     },
     "execution_count": 9,
     "metadata": {},
     "output_type": "execute_result"
    }
   ],
   "source": [
    "#Check for sum of duplicate values\n",
    "sum(Netflix_df.duplicated())"
   ]
  },
  {
   "cell_type": "code",
   "execution_count": 10,
   "id": "e99a4268",
   "metadata": {
    "execution": {
     "iopub.execute_input": "2022-08-12T02:10:11.583206Z",
     "iopub.status.busy": "2022-08-12T02:10:11.582253Z",
     "iopub.status.idle": "2022-08-12T02:10:11.614539Z",
     "shell.execute_reply": "2022-08-12T02:10:11.613247Z"
    },
    "papermill": {
     "duration": 0.050822,
     "end_time": "2022-08-12T02:10:11.617298",
     "exception": false,
     "start_time": "2022-08-12T02:10:11.566476",
     "status": "completed"
    },
    "tags": []
   },
   "outputs": [
    {
     "data": {
      "text/html": [
       "<div>\n",
       "<style scoped>\n",
       "    .dataframe tbody tr th:only-of-type {\n",
       "        vertical-align: middle;\n",
       "    }\n",
       "\n",
       "    .dataframe tbody tr th {\n",
       "        vertical-align: top;\n",
       "    }\n",
       "\n",
       "    .dataframe thead th {\n",
       "        text-align: right;\n",
       "    }\n",
       "</style>\n",
       "<table border=\"1\" class=\"dataframe\">\n",
       "  <thead>\n",
       "    <tr style=\"text-align: right;\">\n",
       "      <th></th>\n",
       "      <th>Show_Id</th>\n",
       "      <th>Category</th>\n",
       "      <th>Title</th>\n",
       "      <th>Director</th>\n",
       "      <th>Cast</th>\n",
       "      <th>Country</th>\n",
       "      <th>Release_Date</th>\n",
       "      <th>Rating</th>\n",
       "      <th>Duration</th>\n",
       "      <th>Type</th>\n",
       "      <th>Description</th>\n",
       "    </tr>\n",
       "  </thead>\n",
       "  <tbody>\n",
       "    <tr>\n",
       "      <th>6300</th>\n",
       "      <td>s684</td>\n",
       "      <td>Movie</td>\n",
       "      <td>Backfire</td>\n",
       "      <td>Dave Patten</td>\n",
       "      <td>Black Deniro, Byron \"Squally\" Vinson, Dominic ...</td>\n",
       "      <td>United States</td>\n",
       "      <td>April 5, 2019</td>\n",
       "      <td>TV-MA</td>\n",
       "      <td>97 min</td>\n",
       "      <td>Dramas, Independent Movies, Thrillers</td>\n",
       "      <td>When two would-be robbers accidentally kill a ...</td>\n",
       "    </tr>\n",
       "    <tr>\n",
       "      <th>6622</th>\n",
       "      <td>s6621</td>\n",
       "      <td>Movie</td>\n",
       "      <td>The Lost Okoroshi</td>\n",
       "      <td>Abba T. Makama</td>\n",
       "      <td>Seun Ajayi, Judith Audu, Tope Tedela, Ifu Enna...</td>\n",
       "      <td>Nigeria</td>\n",
       "      <td>September 4, 2020</td>\n",
       "      <td>TV-MA</td>\n",
       "      <td>94 min</td>\n",
       "      <td>Comedies, Dramas, Independent Movies</td>\n",
       "      <td>A disillusioned security guard transforms into...</td>\n",
       "    </tr>\n",
       "  </tbody>\n",
       "</table>\n",
       "</div>"
      ],
      "text/plain": [
       "     Show_Id Category              Title        Director  \\\n",
       "6300    s684    Movie           Backfire     Dave Patten   \n",
       "6622   s6621    Movie  The Lost Okoroshi  Abba T. Makama   \n",
       "\n",
       "                                                   Cast        Country  \\\n",
       "6300  Black Deniro, Byron \"Squally\" Vinson, Dominic ...  United States   \n",
       "6622  Seun Ajayi, Judith Audu, Tope Tedela, Ifu Enna...        Nigeria   \n",
       "\n",
       "           Release_Date Rating Duration  \\\n",
       "6300      April 5, 2019  TV-MA   97 min   \n",
       "6622  September 4, 2020  TV-MA   94 min   \n",
       "\n",
       "                                       Type  \\\n",
       "6300  Dramas, Independent Movies, Thrillers   \n",
       "6622   Comedies, Dramas, Independent Movies   \n",
       "\n",
       "                                            Description  \n",
       "6300  When two would-be robbers accidentally kill a ...  \n",
       "6622  A disillusioned security guard transforms into...  "
      ]
     },
     "execution_count": 10,
     "metadata": {},
     "output_type": "execute_result"
    }
   ],
   "source": [
    "#Check for actual duplicate values\n",
    "Netflix_df[(Netflix_df.duplicated())]"
   ]
  },
  {
   "cell_type": "code",
   "execution_count": 11,
   "id": "aa935f66",
   "metadata": {
    "execution": {
     "iopub.execute_input": "2022-08-12T02:10:11.649261Z",
     "iopub.status.busy": "2022-08-12T02:10:11.648412Z",
     "iopub.status.idle": "2022-08-12T02:10:11.672074Z",
     "shell.execute_reply": "2022-08-12T02:10:11.670581Z"
    },
    "papermill": {
     "duration": 0.043055,
     "end_time": "2022-08-12T02:10:11.675298",
     "exception": false,
     "start_time": "2022-08-12T02:10:11.632243",
     "status": "completed"
    },
    "tags": []
   },
   "outputs": [],
   "source": [
    "#Drop duplicate\n",
    "Netflix_df.drop_duplicates(inplace=True)"
   ]
  },
  {
   "cell_type": "code",
   "execution_count": 12,
   "id": "f87844a4",
   "metadata": {
    "execution": {
     "iopub.execute_input": "2022-08-12T02:10:11.708632Z",
     "iopub.status.busy": "2022-08-12T02:10:11.707713Z",
     "iopub.status.idle": "2022-08-12T02:10:11.732327Z",
     "shell.execute_reply": "2022-08-12T02:10:11.731301Z"
    },
    "papermill": {
     "duration": 0.042978,
     "end_time": "2022-08-12T02:10:11.734665",
     "exception": false,
     "start_time": "2022-08-12T02:10:11.691687",
     "status": "completed"
    },
    "tags": []
   },
   "outputs": [
    {
     "data": {
      "text/plain": [
       "0"
      ]
     },
     "execution_count": 12,
     "metadata": {},
     "output_type": "execute_result"
    }
   ],
   "source": [
    "#Check for duplicate values\n",
    "sum(Netflix_df.duplicated())"
   ]
  },
  {
   "cell_type": "code",
   "execution_count": 13,
   "id": "3d746c41",
   "metadata": {
    "execution": {
     "iopub.execute_input": "2022-08-12T02:10:11.767398Z",
     "iopub.status.busy": "2022-08-12T02:10:11.766046Z",
     "iopub.status.idle": "2022-08-12T02:10:11.964077Z",
     "shell.execute_reply": "2022-08-12T02:10:11.962466Z"
    },
    "papermill": {
     "duration": 0.217643,
     "end_time": "2022-08-12T02:10:11.967230",
     "exception": false,
     "start_time": "2022-08-12T02:10:11.749587",
     "status": "completed"
    },
    "tags": []
   },
   "outputs": [],
   "source": [
    "#Change ReleaseDate format to Datetime\n",
    "Netflix_df['Release_Date'] = pd.to_datetime(Netflix_df['Release_Date'])"
   ]
  },
  {
   "cell_type": "markdown",
   "id": "c6fbc9d6",
   "metadata": {
    "papermill": {
     "duration": 0.015624,
     "end_time": "2022-08-12T02:10:11.997643",
     "exception": false,
     "start_time": "2022-08-12T02:10:11.982019",
     "status": "completed"
    },
    "tags": []
   },
   "source": [
    "# Q1: what is the show ID and the director of House Of Cards"
   ]
  },
  {
   "cell_type": "code",
   "execution_count": 14,
   "id": "c97f31a5",
   "metadata": {
    "execution": {
     "iopub.execute_input": "2022-08-12T02:10:12.029536Z",
     "iopub.status.busy": "2022-08-12T02:10:12.029041Z",
     "iopub.status.idle": "2022-08-12T02:10:12.051360Z",
     "shell.execute_reply": "2022-08-12T02:10:12.049998Z"
    },
    "papermill": {
     "duration": 0.041334,
     "end_time": "2022-08-12T02:10:12.053982",
     "exception": false,
     "start_time": "2022-08-12T02:10:12.012648",
     "status": "completed"
    },
    "tags": []
   },
   "outputs": [
    {
     "data": {
      "text/html": [
       "<div>\n",
       "<style scoped>\n",
       "    .dataframe tbody tr th:only-of-type {\n",
       "        vertical-align: middle;\n",
       "    }\n",
       "\n",
       "    .dataframe tbody tr th {\n",
       "        vertical-align: top;\n",
       "    }\n",
       "\n",
       "    .dataframe thead th {\n",
       "        text-align: right;\n",
       "    }\n",
       "</style>\n",
       "<table border=\"1\" class=\"dataframe\">\n",
       "  <thead>\n",
       "    <tr style=\"text-align: right;\">\n",
       "      <th></th>\n",
       "      <th>Show_Id</th>\n",
       "      <th>Category</th>\n",
       "      <th>Title</th>\n",
       "      <th>Director</th>\n",
       "      <th>Cast</th>\n",
       "      <th>Country</th>\n",
       "      <th>Release_Date</th>\n",
       "      <th>Rating</th>\n",
       "      <th>Duration</th>\n",
       "      <th>Type</th>\n",
       "      <th>Description</th>\n",
       "    </tr>\n",
       "  </thead>\n",
       "  <tbody>\n",
       "    <tr>\n",
       "      <th>2832</th>\n",
       "      <td>s2833</td>\n",
       "      <td>TV Show</td>\n",
       "      <td>House of Cards</td>\n",
       "      <td>Robin Wright, David Fincher, Gerald McRaney, J...</td>\n",
       "      <td>Kevin Spacey, Robin Wright, Kate Mara, Corey S...</td>\n",
       "      <td>United States</td>\n",
       "      <td>2018-11-02</td>\n",
       "      <td>TV-MA</td>\n",
       "      <td>6 Seasons</td>\n",
       "      <td>TV Dramas, TV Thrillers</td>\n",
       "      <td>A ruthless politician will stop at nothing to ...</td>\n",
       "    </tr>\n",
       "  </tbody>\n",
       "</table>\n",
       "</div>"
      ],
      "text/plain": [
       "     Show_Id Category           Title  \\\n",
       "2832   s2833  TV Show  House of Cards   \n",
       "\n",
       "                                               Director  \\\n",
       "2832  Robin Wright, David Fincher, Gerald McRaney, J...   \n",
       "\n",
       "                                                   Cast        Country  \\\n",
       "2832  Kevin Spacey, Robin Wright, Kate Mara, Corey S...  United States   \n",
       "\n",
       "     Release_Date Rating   Duration                     Type  \\\n",
       "2832   2018-11-02  TV-MA  6 Seasons  TV Dramas, TV Thrillers   \n",
       "\n",
       "                                            Description  \n",
       "2832  A ruthless politician will stop at nothing to ...  "
      ]
     },
     "execution_count": 14,
     "metadata": {},
     "output_type": "execute_result"
    }
   ],
   "source": [
    "#find value or string in df\n",
    "Netflix_df[Netflix_df['Title'].isin(['House of Cards'])]"
   ]
  },
  {
   "cell_type": "markdown",
   "id": "0642c107",
   "metadata": {
    "papermill": {
     "duration": 0.013672,
     "end_time": "2022-08-12T02:10:12.081911",
     "exception": false,
     "start_time": "2022-08-12T02:10:12.068239",
     "status": "completed"
    },
    "tags": []
   },
   "source": [
    "# Q2: In what year was the highest number of movies and tv shows released?"
   ]
  },
  {
   "cell_type": "code",
   "execution_count": 15,
   "id": "0aeb9291",
   "metadata": {
    "execution": {
     "iopub.execute_input": "2022-08-12T02:10:12.114142Z",
     "iopub.status.busy": "2022-08-12T02:10:12.113000Z",
     "iopub.status.idle": "2022-08-12T02:10:12.127501Z",
     "shell.execute_reply": "2022-08-12T02:10:12.126177Z"
    },
    "papermill": {
     "duration": 0.033439,
     "end_time": "2022-08-12T02:10:12.130062",
     "exception": false,
     "start_time": "2022-08-12T02:10:12.096623",
     "status": "completed"
    },
    "tags": []
   },
   "outputs": [
    {
     "data": {
      "text/plain": [
       "2019.0    2153\n",
       "2020.0    2009\n",
       "2018.0    1685\n",
       "2017.0    1225\n",
       "2016.0     443\n",
       "2021.0     117\n",
       "2015.0      88\n",
       "2014.0      25\n",
       "2011.0      13\n",
       "2013.0      11\n",
       "2012.0       3\n",
       "2008.0       2\n",
       "2009.0       2\n",
       "2010.0       1\n",
       "Name: Release_Date, dtype: int64"
      ]
     },
     "execution_count": 15,
     "metadata": {},
     "output_type": "execute_result"
    }
   ],
   "source": [
    "#Value count of Release_Date column\n",
    "Netflix_df['Release_Date'].dt.year.value_counts()"
   ]
  },
  {
   "cell_type": "code",
   "execution_count": 16,
   "id": "3de910eb",
   "metadata": {
    "execution": {
     "iopub.execute_input": "2022-08-12T02:10:12.161645Z",
     "iopub.status.busy": "2022-08-12T02:10:12.160262Z",
     "iopub.status.idle": "2022-08-12T02:10:12.477933Z",
     "shell.execute_reply": "2022-08-12T02:10:12.476673Z"
    },
    "papermill": {
     "duration": 0.336105,
     "end_time": "2022-08-12T02:10:12.480728",
     "exception": false,
     "start_time": "2022-08-12T02:10:12.144623",
     "status": "completed"
    },
    "tags": []
   },
   "outputs": [
    {
     "data": {
      "image/png": "[encoded data removed]",
      "text/plain": [
       "<Figure size 576x576 with 1 Axes>"
      ]
     },
     "metadata": {
      "needs_background": "light"
     },
     "output_type": "display_data"
    }
   ],
   "source": [
    "#Bar chart showing distribution of Release_Date\n",
    "Netflix_df['Release_Date'].dt.year.value_counts().plot(kind='bar', figsize= (8,8));\n",
    "plt.title('Bar chart showing distribution of Release_Date');"
   ]
  },
  {
   "cell_type": "markdown",
   "id": "72e83415",
   "metadata": {
    "papermill": {
     "duration": 0.014924,
     "end_time": "2022-08-12T02:10:12.510948",
     "exception": false,
     "start_time": "2022-08-12T02:10:12.496024",
     "status": "completed"
    },
    "tags": []
   },
   "source": [
    "# Q3: How many movies and tv shows are in the dataset? use bar graph"
   ]
  },
  {
   "cell_type": "code",
   "execution_count": 17,
   "id": "685906e5",
   "metadata": {
    "execution": {
     "iopub.execute_input": "2022-08-12T02:10:12.543130Z",
     "iopub.status.busy": "2022-08-12T02:10:12.542009Z",
     "iopub.status.idle": "2022-08-12T02:10:12.553089Z",
     "shell.execute_reply": "2022-08-12T02:10:12.551609Z"
    },
    "papermill": {
     "duration": 0.02978,
     "end_time": "2022-08-12T02:10:12.555581",
     "exception": false,
     "start_time": "2022-08-12T02:10:12.525801",
     "status": "completed"
    },
    "tags": []
   },
   "outputs": [
    {
     "data": {
      "text/plain": [
       "Category\n",
       "Movie      5377\n",
       "TV Show    2410\n",
       "Name: Category, dtype: int64"
      ]
     },
     "execution_count": 17,
     "metadata": {},
     "output_type": "execute_result"
    }
   ],
   "source": [
    "#Value count of Category column\n",
    "Netflix_df.groupby('Category').Category.count()"
   ]
  },
  {
   "cell_type": "code",
   "execution_count": 18,
   "id": "0e5690f2",
   "metadata": {
    "execution": {
     "iopub.execute_input": "2022-08-12T02:10:12.590146Z",
     "iopub.status.busy": "2022-08-12T02:10:12.589262Z",
     "iopub.status.idle": "2022-08-12T02:10:12.599069Z",
     "shell.execute_reply": "2022-08-12T02:10:12.598025Z"
    },
    "papermill": {
     "duration": 0.030467,
     "end_time": "2022-08-12T02:10:12.601855",
     "exception": false,
     "start_time": "2022-08-12T02:10:12.571388",
     "status": "completed"
    },
    "tags": []
   },
   "outputs": [
    {
     "data": {
      "text/plain": [
       "Movie      5377\n",
       "TV Show    2410\n",
       "Name: Category, dtype: int64"
      ]
     },
     "execution_count": 18,
     "metadata": {},
     "output_type": "execute_result"
    }
   ],
   "source": [
    "#Value count of Category column (2nd method)\n",
    "Netflix_df['Category'].value_counts()"
   ]
  },
  {
   "cell_type": "markdown",
   "id": "560f5198",
   "metadata": {
    "papermill": {
     "duration": 0.015688,
     "end_time": "2022-08-12T02:10:12.633919",
     "exception": false,
     "start_time": "2022-08-12T02:10:12.618231",
     "status": "completed"
    },
    "tags": []
   },
   "source": [
    "# Q4: Show all movies that were released in 2000"
   ]
  },
  {
   "cell_type": "code",
   "execution_count": 19,
   "id": "5f565d78",
   "metadata": {
    "execution": {
     "iopub.execute_input": "2022-08-12T02:10:12.669284Z",
     "iopub.status.busy": "2022-08-12T02:10:12.667954Z",
     "iopub.status.idle": "2022-08-12T02:10:12.675898Z",
     "shell.execute_reply": "2022-08-12T02:10:12.674803Z"
    },
    "papermill": {
     "duration": 0.028745,
     "end_time": "2022-08-12T02:10:12.678648",
     "exception": false,
     "start_time": "2022-08-12T02:10:12.649903",
     "status": "completed"
    },
    "tags": []
   },
   "outputs": [],
   "source": [
    "#Create new column containing only year\n",
    "Netflix_df['Year'] = Netflix_df['Release_Date'].dt.year"
   ]
  },
  {
   "cell_type": "code",
   "execution_count": 20,
   "id": "e94ca6e1",
   "metadata": {
    "execution": {
     "iopub.execute_input": "2022-08-12T02:10:12.712769Z",
     "iopub.status.busy": "2022-08-12T02:10:12.711540Z",
     "iopub.status.idle": "2022-08-12T02:10:12.731166Z",
     "shell.execute_reply": "2022-08-12T02:10:12.729863Z"
    },
    "papermill": {
     "duration": 0.039422,
     "end_time": "2022-08-12T02:10:12.733720",
     "exception": false,
     "start_time": "2022-08-12T02:10:12.694298",
     "status": "completed"
    },
    "tags": []
   },
   "outputs": [
    {
     "data": {
      "text/html": [
       "<div>\n",
       "<style scoped>\n",
       "    .dataframe tbody tr th:only-of-type {\n",
       "        vertical-align: middle;\n",
       "    }\n",
       "\n",
       "    .dataframe tbody tr th {\n",
       "        vertical-align: top;\n",
       "    }\n",
       "\n",
       "    .dataframe thead th {\n",
       "        text-align: right;\n",
       "    }\n",
       "</style>\n",
       "<table border=\"1\" class=\"dataframe\">\n",
       "  <thead>\n",
       "    <tr style=\"text-align: right;\">\n",
       "      <th></th>\n",
       "      <th>Show_Id</th>\n",
       "      <th>Category</th>\n",
       "      <th>Title</th>\n",
       "      <th>Director</th>\n",
       "      <th>Cast</th>\n",
       "      <th>Country</th>\n",
       "      <th>Release_Date</th>\n",
       "      <th>Rating</th>\n",
       "      <th>Duration</th>\n",
       "      <th>Type</th>\n",
       "      <th>Description</th>\n",
       "      <th>Year</th>\n",
       "    </tr>\n",
       "  </thead>\n",
       "  <tbody>\n",
       "    <tr>\n",
       "      <th>0</th>\n",
       "      <td>s1</td>\n",
       "      <td>TV Show</td>\n",
       "      <td>3%</td>\n",
       "      <td>NaN</td>\n",
       "      <td>João Miguel, Bianca Comparato, Michel Gomes, R...</td>\n",
       "      <td>Brazil</td>\n",
       "      <td>2020-08-14</td>\n",
       "      <td>TV-MA</td>\n",
       "      <td>4 Seasons</td>\n",
       "      <td>International TV Shows, TV Dramas, TV Sci-Fi &amp;...</td>\n",
       "      <td>In a future where the elite inhabit an island ...</td>\n",
       "      <td>2020.0</td>\n",
       "    </tr>\n",
       "    <tr>\n",
       "      <th>1</th>\n",
       "      <td>s2</td>\n",
       "      <td>Movie</td>\n",
       "      <td>07:19</td>\n",
       "      <td>Jorge Michel Grau</td>\n",
       "      <td>Demián Bichir, Héctor Bonilla, Oscar Serrano, ...</td>\n",
       "      <td>Mexico</td>\n",
       "      <td>2016-12-23</td>\n",
       "      <td>TV-MA</td>\n",
       "      <td>93 min</td>\n",
       "      <td>Dramas, International Movies</td>\n",
       "      <td>After a devastating earthquake hits Mexico Cit...</td>\n",
       "      <td>2016.0</td>\n",
       "    </tr>\n",
       "    <tr>\n",
       "      <th>2</th>\n",
       "      <td>s3</td>\n",
       "      <td>Movie</td>\n",
       "      <td>23:59</td>\n",
       "      <td>Gilbert Chan</td>\n",
       "      <td>Tedd Chan, Stella Chung, Henley Hii, Lawrence ...</td>\n",
       "      <td>Singapore</td>\n",
       "      <td>2018-12-20</td>\n",
       "      <td>R</td>\n",
       "      <td>78 min</td>\n",
       "      <td>Horror Movies, International Movies</td>\n",
       "      <td>When an army recruit is found dead, his fellow...</td>\n",
       "      <td>2018.0</td>\n",
       "    </tr>\n",
       "    <tr>\n",
       "      <th>3</th>\n",
       "      <td>s4</td>\n",
       "      <td>Movie</td>\n",
       "      <td>9</td>\n",
       "      <td>Shane Acker</td>\n",
       "      <td>Elijah Wood, John C. Reilly, Jennifer Connelly...</td>\n",
       "      <td>United States</td>\n",
       "      <td>2017-11-16</td>\n",
       "      <td>PG-13</td>\n",
       "      <td>80 min</td>\n",
       "      <td>Action &amp; Adventure, Independent Movies, Sci-Fi...</td>\n",
       "      <td>In a postapocalyptic world, rag-doll robots hi...</td>\n",
       "      <td>2017.0</td>\n",
       "    </tr>\n",
       "    <tr>\n",
       "      <th>4</th>\n",
       "      <td>s5</td>\n",
       "      <td>Movie</td>\n",
       "      <td>21</td>\n",
       "      <td>Robert Luketic</td>\n",
       "      <td>Jim Sturgess, Kevin Spacey, Kate Bosworth, Aar...</td>\n",
       "      <td>United States</td>\n",
       "      <td>2020-01-01</td>\n",
       "      <td>PG-13</td>\n",
       "      <td>123 min</td>\n",
       "      <td>Dramas</td>\n",
       "      <td>A brilliant group of students become card-coun...</td>\n",
       "      <td>2020.0</td>\n",
       "    </tr>\n",
       "  </tbody>\n",
       "</table>\n",
       "</div>"
      ],
      "text/plain": [
       "  Show_Id Category  Title           Director  \\\n",
       "0      s1  TV Show     3%                NaN   \n",
       "1      s2    Movie  07:19  Jorge Michel Grau   \n",
       "2      s3    Movie  23:59       Gilbert Chan   \n",
       "3      s4    Movie      9        Shane Acker   \n",
       "4      s5    Movie     21     Robert Luketic   \n",
       "\n",
       "                                                Cast        Country  \\\n",
       "0  João Miguel, Bianca Comparato, Michel Gomes, R...         Brazil   \n",
       "1  Demián Bichir, Héctor Bonilla, Oscar Serrano, ...         Mexico   \n",
       "2  Tedd Chan, Stella Chung, Henley Hii, Lawrence ...      Singapore   \n",
       "3  Elijah Wood, John C. Reilly, Jennifer Connelly...  United States   \n",
       "4  Jim Sturgess, Kevin Spacey, Kate Bosworth, Aar...  United States   \n",
       "\n",
       "  Release_Date Rating   Duration  \\\n",
       "0   2020-08-14  TV-MA  4 Seasons   \n",
       "1   2016-12-23  TV-MA     93 min   \n",
       "2   2018-12-20      R     78 min   \n",
       "3   2017-11-16  PG-13     80 min   \n",
       "4   2020-01-01  PG-13    123 min   \n",
       "\n",
       "                                                Type  \\\n",
       "0  International TV Shows, TV Dramas, TV Sci-Fi &...   \n",
       "1                       Dramas, International Movies   \n",
       "2                Horror Movies, International Movies   \n",
       "3  Action & Adventure, Independent Movies, Sci-Fi...   \n",
       "4                                             Dramas   \n",
       "\n",
       "                                         Description    Year  \n",
       "0  In a future where the elite inhabit an island ...  2020.0  \n",
       "1  After a devastating earthquake hits Mexico Cit...  2016.0  \n",
       "2  When an army recruit is found dead, his fellow...  2018.0  \n",
       "3  In a postapocalyptic world, rag-doll robots hi...  2017.0  \n",
       "4  A brilliant group of students become card-coun...  2020.0  "
      ]
     },
     "execution_count": 20,
     "metadata": {},
     "output_type": "execute_result"
    }
   ],
   "source": [
    "Netflix_df.head()"
   ]
  },
  {
   "cell_type": "code",
   "execution_count": 21,
   "id": "f647924f",
   "metadata": {
    "execution": {
     "iopub.execute_input": "2022-08-12T02:10:12.770129Z",
     "iopub.status.busy": "2022-08-12T02:10:12.769656Z",
     "iopub.status.idle": "2022-08-12T02:10:12.787258Z",
     "shell.execute_reply": "2022-08-12T02:10:12.785887Z"
    },
    "papermill": {
     "duration": 0.039439,
     "end_time": "2022-08-12T02:10:12.789886",
     "exception": false,
     "start_time": "2022-08-12T02:10:12.750447",
     "status": "completed"
    },
    "tags": []
   },
   "outputs": [
    {
     "data": {
      "text/html": [
       "<div>\n",
       "<style scoped>\n",
       "    .dataframe tbody tr th:only-of-type {\n",
       "        vertical-align: middle;\n",
       "    }\n",
       "\n",
       "    .dataframe tbody tr th {\n",
       "        vertical-align: top;\n",
       "    }\n",
       "\n",
       "    .dataframe thead th {\n",
       "        text-align: right;\n",
       "    }\n",
       "</style>\n",
       "<table border=\"1\" class=\"dataframe\">\n",
       "  <thead>\n",
       "    <tr style=\"text-align: right;\">\n",
       "      <th></th>\n",
       "      <th>Show_Id</th>\n",
       "      <th>Category</th>\n",
       "      <th>Title</th>\n",
       "      <th>Director</th>\n",
       "      <th>Cast</th>\n",
       "      <th>Country</th>\n",
       "      <th>Release_Date</th>\n",
       "      <th>Rating</th>\n",
       "      <th>Duration</th>\n",
       "      <th>Type</th>\n",
       "      <th>Description</th>\n",
       "      <th>Year</th>\n",
       "    </tr>\n",
       "  </thead>\n",
       "  <tbody>\n",
       "  </tbody>\n",
       "</table>\n",
       "</div>"
      ],
      "text/plain": [
       "Empty DataFrame\n",
       "Columns: [Show_Id, Category, Title, Director, Cast, Country, Release_Date, Rating, Duration, Type, Description, Year]\n",
       "Index: []"
      ]
     },
     "execution_count": 21,
     "metadata": {},
     "output_type": "execute_result"
    }
   ],
   "source": [
    "#two conditions must be met\n",
    "Netflix_df[ (Netflix_df['Category']=='Movie') & (Netflix_df['Year']==2000) ]"
   ]
  },
  {
   "cell_type": "markdown",
   "id": "95680122",
   "metadata": {
    "papermill": {
     "duration": 0.015051,
     "end_time": "2022-08-12T02:10:12.821162",
     "exception": false,
     "start_time": "2022-08-12T02:10:12.806111",
     "status": "completed"
    },
    "tags": []
   },
   "source": [
    "# Q5: Show titles of all tv shows released in India"
   ]
  },
  {
   "cell_type": "code",
   "execution_count": 22,
   "id": "577cc62e",
   "metadata": {
    "execution": {
     "iopub.execute_input": "2022-08-12T02:10:12.853690Z",
     "iopub.status.busy": "2022-08-12T02:10:12.853241Z",
     "iopub.status.idle": "2022-08-12T02:10:12.867331Z",
     "shell.execute_reply": "2022-08-12T02:10:12.866254Z"
    },
    "papermill": {
     "duration": 0.033753,
     "end_time": "2022-08-12T02:10:12.870335",
     "exception": false,
     "start_time": "2022-08-12T02:10:12.836582",
     "status": "completed"
    },
    "tags": []
   },
   "outputs": [
    {
     "data": {
      "text/plain": [
       "86            21 Sarfarosh: Saragarhi 1897\n",
       "132                              7 (Seven)\n",
       "340                           Agent Raghav\n",
       "364                           Akbar Birbal\n",
       "533                    Anjaan: Rural Myths\n",
       "                       ...                \n",
       "6249                  The Creative Indians\n",
       "6400    The Golden Years with Javed Akhtar\n",
       "6469                The House That Made Me\n",
       "7294                            Typewriter\n",
       "7705                       Yeh Meri Family\n",
       "Name: Title, Length: 71, dtype: object"
      ]
     },
     "execution_count": 22,
     "metadata": {},
     "output_type": "execute_result"
    }
   ],
   "source": [
    "#three conditions must be met\n",
    "Netflix_df[ (Netflix_df['Category']=='TV Show') & (Netflix_df['Country']=='India') ] ['Title']"
   ]
  },
  {
   "cell_type": "markdown",
   "id": "3ab6ebda",
   "metadata": {
    "papermill": {
     "duration": 0.017243,
     "end_time": "2022-08-12T02:10:12.904959",
     "exception": false,
     "start_time": "2022-08-12T02:10:12.887716",
     "status": "completed"
    },
    "tags": []
   },
   "source": [
    "# Q6: show top 10 directors with highest number of tv shows and movies"
   ]
  },
  {
   "cell_type": "code",
   "execution_count": 23,
   "id": "321a0b0d",
   "metadata": {
    "execution": {
     "iopub.execute_input": "2022-08-12T02:10:12.941080Z",
     "iopub.status.busy": "2022-08-12T02:10:12.940394Z",
     "iopub.status.idle": "2022-08-12T02:10:12.952294Z",
     "shell.execute_reply": "2022-08-12T02:10:12.951318Z"
    },
    "papermill": {
     "duration": 0.032403,
     "end_time": "2022-08-12T02:10:12.954512",
     "exception": false,
     "start_time": "2022-08-12T02:10:12.922109",
     "status": "completed"
    },
    "tags": []
   },
   "outputs": [
    {
     "data": {
      "text/plain": [
       "Raúl Campos, Jan Suter    18\n",
       "Marcus Raboy              16\n",
       "Jay Karas                 14\n",
       "Cathy Garcia-Molina       13\n",
       "Jay Chapman               12\n",
       "Youssef Chahine           12\n",
       "Martin Scorsese           12\n",
       "Steven Spielberg          10\n",
       "David Dhawan               9\n",
       "Hakan Algül                8\n",
       "Name: Director, dtype: int64"
      ]
     },
     "execution_count": 23,
     "metadata": {},
     "output_type": "execute_result"
    }
   ],
   "source": [
    "#Value count of Director column showing the top 10 values\n",
    "Netflix_df['Director'].value_counts().head(10)"
   ]
  },
  {
   "cell_type": "markdown",
   "id": "e0f24332",
   "metadata": {
    "papermill": {
     "duration": 0.01637,
     "end_time": "2022-08-12T02:10:12.987914",
     "exception": false,
     "start_time": "2022-08-12T02:10:12.971544",
     "status": "completed"
    },
    "tags": []
   },
   "source": [
    "# Q7: Show all records where category is movie and type is comedies or country is united kingdom"
   ]
  },
  {
   "cell_type": "markdown",
   "id": "f9693361",
   "metadata": {
    "papermill": {
     "duration": 0.015394,
     "end_time": "2022-08-12T02:10:13.019538",
     "exception": false,
     "start_time": "2022-08-12T02:10:13.004144",
     "status": "completed"
    },
    "tags": []
   },
   "source": [
    "and & or operators will be used here"
   ]
  },
  {
   "cell_type": "code",
   "execution_count": 24,
   "id": "015be7d2",
   "metadata": {
    "execution": {
     "iopub.execute_input": "2022-08-12T02:10:13.053032Z",
     "iopub.status.busy": "2022-08-12T02:10:13.052411Z",
     "iopub.status.idle": "2022-08-12T02:10:13.081334Z",
     "shell.execute_reply": "2022-08-12T02:10:13.080043Z"
    },
    "papermill": {
     "duration": 0.049424,
     "end_time": "2022-08-12T02:10:13.084417",
     "exception": false,
     "start_time": "2022-08-12T02:10:13.034993",
     "status": "completed"
    },
    "scrolled": true,
    "tags": []
   },
   "outputs": [
    {
     "data": {
      "text/html": [
       "<div>\n",
       "<style scoped>\n",
       "    .dataframe tbody tr th:only-of-type {\n",
       "        vertical-align: middle;\n",
       "    }\n",
       "\n",
       "    .dataframe tbody tr th {\n",
       "        vertical-align: top;\n",
       "    }\n",
       "\n",
       "    .dataframe thead th {\n",
       "        text-align: right;\n",
       "    }\n",
       "</style>\n",
       "<table border=\"1\" class=\"dataframe\">\n",
       "  <thead>\n",
       "    <tr style=\"text-align: right;\">\n",
       "      <th></th>\n",
       "      <th>Show_Id</th>\n",
       "      <th>Category</th>\n",
       "      <th>Title</th>\n",
       "      <th>Director</th>\n",
       "      <th>Cast</th>\n",
       "      <th>Country</th>\n",
       "      <th>Release_Date</th>\n",
       "      <th>Rating</th>\n",
       "      <th>Duration</th>\n",
       "      <th>Type</th>\n",
       "      <th>Description</th>\n",
       "      <th>Year</th>\n",
       "    </tr>\n",
       "  </thead>\n",
       "  <tbody>\n",
       "    <tr>\n",
       "      <th>19</th>\n",
       "      <td>s20</td>\n",
       "      <td>Movie</td>\n",
       "      <td>'89</td>\n",
       "      <td>NaN</td>\n",
       "      <td>Lee Dixon, Ian Wright, Paul Merson</td>\n",
       "      <td>United Kingdom</td>\n",
       "      <td>2018-05-16</td>\n",
       "      <td>TV-PG</td>\n",
       "      <td>87 min</td>\n",
       "      <td>Sports Movies</td>\n",
       "      <td>Mixing old footage with interviews, this is th...</td>\n",
       "      <td>2018.0</td>\n",
       "    </tr>\n",
       "    <tr>\n",
       "      <th>33</th>\n",
       "      <td>s34</td>\n",
       "      <td>Movie</td>\n",
       "      <td>#realityhigh</td>\n",
       "      <td>Fernando Lebrija</td>\n",
       "      <td>Nesta Cooper, Kate Walsh, John Michael Higgins...</td>\n",
       "      <td>United States</td>\n",
       "      <td>2017-09-08</td>\n",
       "      <td>TV-14</td>\n",
       "      <td>99 min</td>\n",
       "      <td>Comedies</td>\n",
       "      <td>When nerdy high schooler Dani finally attracts...</td>\n",
       "      <td>2017.0</td>\n",
       "    </tr>\n",
       "    <tr>\n",
       "      <th>58</th>\n",
       "      <td>s59</td>\n",
       "      <td>TV Show</td>\n",
       "      <td>100% Hotter</td>\n",
       "      <td>NaN</td>\n",
       "      <td>Daniel Palmer, Melissa Sophia, Karen Williams,...</td>\n",
       "      <td>United Kingdom</td>\n",
       "      <td>2019-11-01</td>\n",
       "      <td>TV-14</td>\n",
       "      <td>1 Season</td>\n",
       "      <td>British TV Shows, International TV Shows, Real...</td>\n",
       "      <td>A stylist, a hair designer and a makeup artist...</td>\n",
       "      <td>2019.0</td>\n",
       "    </tr>\n",
       "    <tr>\n",
       "      <th>72</th>\n",
       "      <td>s73</td>\n",
       "      <td>Movie</td>\n",
       "      <td>17 Again</td>\n",
       "      <td>Burr Steers</td>\n",
       "      <td>Zac Efron, Leslie Mann, Matthew Perry, Thomas ...</td>\n",
       "      <td>United States</td>\n",
       "      <td>2021-01-01</td>\n",
       "      <td>PG-13</td>\n",
       "      <td>102 min</td>\n",
       "      <td>Comedies</td>\n",
       "      <td>Nearing a midlife crisis, thirty-something Mik...</td>\n",
       "      <td>2021.0</td>\n",
       "    </tr>\n",
       "    <tr>\n",
       "      <th>82</th>\n",
       "      <td>s83</td>\n",
       "      <td>Movie</td>\n",
       "      <td>2036 Origin Unknown</td>\n",
       "      <td>Hasraf Dulull</td>\n",
       "      <td>Katee Sackhoff, Ray Fearon, Julie Cox, Steven ...</td>\n",
       "      <td>United Kingdom</td>\n",
       "      <td>2018-12-20</td>\n",
       "      <td>TV-14</td>\n",
       "      <td>95 min</td>\n",
       "      <td>Sci-Fi &amp; Fantasy</td>\n",
       "      <td>Working with an artificial intelligence to inv...</td>\n",
       "      <td>2018.0</td>\n",
       "    </tr>\n",
       "    <tr>\n",
       "      <th>...</th>\n",
       "      <td>...</td>\n",
       "      <td>...</td>\n",
       "      <td>...</td>\n",
       "      <td>...</td>\n",
       "      <td>...</td>\n",
       "      <td>...</td>\n",
       "      <td>...</td>\n",
       "      <td>...</td>\n",
       "      <td>...</td>\n",
       "      <td>...</td>\n",
       "      <td>...</td>\n",
       "      <td>...</td>\n",
       "    </tr>\n",
       "    <tr>\n",
       "      <th>7670</th>\n",
       "      <td>s7669</td>\n",
       "      <td>TV Show</td>\n",
       "      <td>World War II in Colour</td>\n",
       "      <td>NaN</td>\n",
       "      <td>Robert Powell</td>\n",
       "      <td>United Kingdom</td>\n",
       "      <td>2017-08-01</td>\n",
       "      <td>TV-MA</td>\n",
       "      <td>1 Season</td>\n",
       "      <td>British TV Shows, Docuseries, International TV...</td>\n",
       "      <td>Footage of the most dramatic moments from Worl...</td>\n",
       "      <td>2017.0</td>\n",
       "    </tr>\n",
       "    <tr>\n",
       "      <th>7671</th>\n",
       "      <td>s7670</td>\n",
       "      <td>TV Show</td>\n",
       "      <td>World's Busiest Cities</td>\n",
       "      <td>NaN</td>\n",
       "      <td>Anita Rani, Ade Adepitan, Dan Snow</td>\n",
       "      <td>United Kingdom</td>\n",
       "      <td>2019-02-01</td>\n",
       "      <td>TV-PG</td>\n",
       "      <td>1 Season</td>\n",
       "      <td>British TV Shows, Docuseries</td>\n",
       "      <td>From Moscow to Mexico City, three BBC journali...</td>\n",
       "      <td>2019.0</td>\n",
       "    </tr>\n",
       "    <tr>\n",
       "      <th>7688</th>\n",
       "      <td>s7687</td>\n",
       "      <td>Movie</td>\n",
       "      <td>XV: Beyond the Tryline</td>\n",
       "      <td>Pierre Deschamps</td>\n",
       "      <td>NaN</td>\n",
       "      <td>United Kingdom</td>\n",
       "      <td>2020-03-18</td>\n",
       "      <td>TV-14</td>\n",
       "      <td>91 min</td>\n",
       "      <td>Documentaries, Sports Movies</td>\n",
       "      <td>Set against the 2015 Rugby World Cup, this doc...</td>\n",
       "      <td>2020.0</td>\n",
       "    </tr>\n",
       "    <tr>\n",
       "      <th>7725</th>\n",
       "      <td>s7724</td>\n",
       "      <td>Movie</td>\n",
       "      <td>You Can Tutu</td>\n",
       "      <td>James Brown</td>\n",
       "      <td>Lily O'Regan, Jeannettsy Enriquez Borges, Joel...</td>\n",
       "      <td>United Kingdom</td>\n",
       "      <td>2017-12-31</td>\n",
       "      <td>TV-G</td>\n",
       "      <td>87 min</td>\n",
       "      <td>Children &amp; Family Movies</td>\n",
       "      <td>A gifted young ballet dancer struggles to find...</td>\n",
       "      <td>2017.0</td>\n",
       "    </tr>\n",
       "    <tr>\n",
       "      <th>7740</th>\n",
       "      <td>s7739</td>\n",
       "      <td>TV Show</td>\n",
       "      <td>Young Wallander</td>\n",
       "      <td>NaN</td>\n",
       "      <td>Adam Pålsson, Richard Dillane, Leanne Best, El...</td>\n",
       "      <td>United Kingdom</td>\n",
       "      <td>2020-09-03</td>\n",
       "      <td>TV-MA</td>\n",
       "      <td>1 Season</td>\n",
       "      <td>Crime TV Shows, International TV Shows, TV Dramas</td>\n",
       "      <td>An incendiary hate crime stirs civil unrest, f...</td>\n",
       "      <td>2020.0</td>\n",
       "    </tr>\n",
       "  </tbody>\n",
       "</table>\n",
       "<p>485 rows × 12 columns</p>\n",
       "</div>"
      ],
      "text/plain": [
       "     Show_Id Category                   Title          Director  \\\n",
       "19       s20    Movie                     '89               NaN   \n",
       "33       s34    Movie            #realityhigh  Fernando Lebrija   \n",
       "58       s59  TV Show             100% Hotter               NaN   \n",
       "72       s73    Movie                17 Again       Burr Steers   \n",
       "82       s83    Movie     2036 Origin Unknown     Hasraf Dulull   \n",
       "...      ...      ...                     ...               ...   \n",
       "7670   s7669  TV Show  World War II in Colour               NaN   \n",
       "7671   s7670  TV Show  World's Busiest Cities               NaN   \n",
       "7688   s7687    Movie  XV: Beyond the Tryline  Pierre Deschamps   \n",
       "7725   s7724    Movie            You Can Tutu       James Brown   \n",
       "7740   s7739  TV Show         Young Wallander               NaN   \n",
       "\n",
       "                                                   Cast         Country  \\\n",
       "19                   Lee Dixon, Ian Wright, Paul Merson  United Kingdom   \n",
       "33    Nesta Cooper, Kate Walsh, John Michael Higgins...   United States   \n",
       "58    Daniel Palmer, Melissa Sophia, Karen Williams,...  United Kingdom   \n",
       "72    Zac Efron, Leslie Mann, Matthew Perry, Thomas ...   United States   \n",
       "82    Katee Sackhoff, Ray Fearon, Julie Cox, Steven ...  United Kingdom   \n",
       "...                                                 ...             ...   \n",
       "7670                                      Robert Powell  United Kingdom   \n",
       "7671                 Anita Rani, Ade Adepitan, Dan Snow  United Kingdom   \n",
       "7688                                                NaN  United Kingdom   \n",
       "7725  Lily O'Regan, Jeannettsy Enriquez Borges, Joel...  United Kingdom   \n",
       "7740  Adam Pålsson, Richard Dillane, Leanne Best, El...  United Kingdom   \n",
       "\n",
       "     Release_Date Rating  Duration  \\\n",
       "19     2018-05-16  TV-PG    87 min   \n",
       "33     2017-09-08  TV-14    99 min   \n",
       "58     2019-11-01  TV-14  1 Season   \n",
       "72     2021-01-01  PG-13   102 min   \n",
       "82     2018-12-20  TV-14    95 min   \n",
       "...           ...    ...       ...   \n",
       "7670   2017-08-01  TV-MA  1 Season   \n",
       "7671   2019-02-01  TV-PG  1 Season   \n",
       "7688   2020-03-18  TV-14    91 min   \n",
       "7725   2017-12-31   TV-G    87 min   \n",
       "7740   2020-09-03  TV-MA  1 Season   \n",
       "\n",
       "                                                   Type  \\\n",
       "19                                        Sports Movies   \n",
       "33                                             Comedies   \n",
       "58    British TV Shows, International TV Shows, Real...   \n",
       "72                                             Comedies   \n",
       "82                                     Sci-Fi & Fantasy   \n",
       "...                                                 ...   \n",
       "7670  British TV Shows, Docuseries, International TV...   \n",
       "7671                       British TV Shows, Docuseries   \n",
       "7688                       Documentaries, Sports Movies   \n",
       "7725                           Children & Family Movies   \n",
       "7740  Crime TV Shows, International TV Shows, TV Dramas   \n",
       "\n",
       "                                            Description    Year  \n",
       "19    Mixing old footage with interviews, this is th...  2018.0  \n",
       "33    When nerdy high schooler Dani finally attracts...  2017.0  \n",
       "58    A stylist, a hair designer and a makeup artist...  2019.0  \n",
       "72    Nearing a midlife crisis, thirty-something Mik...  2021.0  \n",
       "82    Working with an artificial intelligence to inv...  2018.0  \n",
       "...                                                 ...     ...  \n",
       "7670  Footage of the most dramatic moments from Worl...  2017.0  \n",
       "7671  From Moscow to Mexico City, three BBC journali...  2019.0  \n",
       "7688  Set against the 2015 Rugby World Cup, this doc...  2020.0  \n",
       "7725  A gifted young ballet dancer struggles to find...  2017.0  \n",
       "7740  An incendiary hate crime stirs civil unrest, f...  2020.0  \n",
       "\n",
       "[485 rows x 12 columns]"
      ]
     },
     "execution_count": 24,
     "metadata": {},
     "output_type": "execute_result"
    }
   ],
   "source": [
    "#3 conditions must be met\n",
    "Netflix_df[ (Netflix_df['Category']=='Movie') & (Netflix_df['Type']=='Comedies') | (Netflix_df['Country']=='United Kingdom') ]"
   ]
  },
  {
   "cell_type": "markdown",
   "id": "024bbffc",
   "metadata": {
    "papermill": {
     "duration": 0.017229,
     "end_time": "2022-08-12T02:10:13.120203",
     "exception": false,
     "start_time": "2022-08-12T02:10:13.102974",
     "status": "completed"
    },
    "tags": []
   },
   "source": [
    "# Q8: How many movies did Tom Cruise appear in?"
   ]
  },
  {
   "cell_type": "code",
   "execution_count": 25,
   "id": "f223b3a2",
   "metadata": {
    "execution": {
     "iopub.execute_input": "2022-08-12T02:10:13.157376Z",
     "iopub.status.busy": "2022-08-12T02:10:13.156552Z",
     "iopub.status.idle": "2022-08-12T02:10:13.167523Z",
     "shell.execute_reply": "2022-08-12T02:10:13.166490Z"
    },
    "papermill": {
     "duration": 0.032035,
     "end_time": "2022-08-12T02:10:13.170077",
     "exception": false,
     "start_time": "2022-08-12T02:10:13.138042",
     "status": "completed"
    },
    "tags": []
   },
   "outputs": [
    {
     "data": {
      "text/plain": [
       "0       False\n",
       "1       False\n",
       "2       False\n",
       "3       False\n",
       "4       False\n",
       "        ...  \n",
       "7784    False\n",
       "7785    False\n",
       "7786    False\n",
       "7787    False\n",
       "7788    False\n",
       "Name: Cast, Length: 7787, dtype: bool"
      ]
     },
     "execution_count": 25,
     "metadata": {},
     "output_type": "execute_result"
    }
   ],
   "source": [
    "#show boolean value for cast column\n",
    "Netflix_df['Cast']=='Tom Cruise'"
   ]
  },
  {
   "cell_type": "code",
   "execution_count": 26,
   "id": "2969eb78",
   "metadata": {
    "execution": {
     "iopub.execute_input": "2022-08-12T02:10:13.205554Z",
     "iopub.status.busy": "2022-08-12T02:10:13.204623Z",
     "iopub.status.idle": "2022-08-12T02:10:13.220920Z",
     "shell.execute_reply": "2022-08-12T02:10:13.219576Z"
    },
    "papermill": {
     "duration": 0.03676,
     "end_time": "2022-08-12T02:10:13.223459",
     "exception": false,
     "start_time": "2022-08-12T02:10:13.186699",
     "status": "completed"
    },
    "tags": []
   },
   "outputs": [
    {
     "data": {
      "text/html": [
       "<div>\n",
       "<style scoped>\n",
       "    .dataframe tbody tr th:only-of-type {\n",
       "        vertical-align: middle;\n",
       "    }\n",
       "\n",
       "    .dataframe tbody tr th {\n",
       "        vertical-align: top;\n",
       "    }\n",
       "\n",
       "    .dataframe thead th {\n",
       "        text-align: right;\n",
       "    }\n",
       "</style>\n",
       "<table border=\"1\" class=\"dataframe\">\n",
       "  <thead>\n",
       "    <tr style=\"text-align: right;\">\n",
       "      <th></th>\n",
       "      <th>Show_Id</th>\n",
       "      <th>Category</th>\n",
       "      <th>Title</th>\n",
       "      <th>Director</th>\n",
       "      <th>Cast</th>\n",
       "      <th>Country</th>\n",
       "      <th>Release_Date</th>\n",
       "      <th>Rating</th>\n",
       "      <th>Duration</th>\n",
       "      <th>Type</th>\n",
       "      <th>Description</th>\n",
       "      <th>Year</th>\n",
       "    </tr>\n",
       "  </thead>\n",
       "  <tbody>\n",
       "  </tbody>\n",
       "</table>\n",
       "</div>"
      ],
      "text/plain": [
       "Empty DataFrame\n",
       "Columns: [Show_Id, Category, Title, Director, Cast, Country, Release_Date, Rating, Duration, Type, Description, Year]\n",
       "Index: []"
      ]
     },
     "execution_count": 26,
     "metadata": {},
     "output_type": "execute_result"
    }
   ],
   "source": [
    "Netflix_df[Netflix_df['Cast']=='Tom Cruise']"
   ]
  },
  {
   "cell_type": "code",
   "execution_count": 27,
   "id": "c5c903a8",
   "metadata": {
    "execution": {
     "iopub.execute_input": "2022-08-12T02:10:13.262795Z",
     "iopub.status.busy": "2022-08-12T02:10:13.261895Z",
     "iopub.status.idle": "2022-08-12T02:10:13.275138Z",
     "shell.execute_reply": "2022-08-12T02:10:13.273914Z"
    },
    "papermill": {
     "duration": 0.035525,
     "end_time": "2022-08-12T02:10:13.277534",
     "exception": false,
     "start_time": "2022-08-12T02:10:13.242009",
     "status": "completed"
    },
    "tags": []
   },
   "outputs": [
    {
     "data": {
      "text/html": [
       "<div>\n",
       "<style scoped>\n",
       "    .dataframe tbody tr th:only-of-type {\n",
       "        vertical-align: middle;\n",
       "    }\n",
       "\n",
       "    .dataframe tbody tr th {\n",
       "        vertical-align: top;\n",
       "    }\n",
       "\n",
       "    .dataframe thead th {\n",
       "        text-align: right;\n",
       "    }\n",
       "</style>\n",
       "<table border=\"1\" class=\"dataframe\">\n",
       "  <thead>\n",
       "    <tr style=\"text-align: right;\">\n",
       "      <th></th>\n",
       "      <th>Show_Id</th>\n",
       "      <th>Category</th>\n",
       "      <th>Title</th>\n",
       "      <th>Director</th>\n",
       "      <th>Cast</th>\n",
       "      <th>Country</th>\n",
       "      <th>Release_Date</th>\n",
       "      <th>Rating</th>\n",
       "      <th>Duration</th>\n",
       "      <th>Type</th>\n",
       "      <th>Description</th>\n",
       "      <th>Year</th>\n",
       "    </tr>\n",
       "  </thead>\n",
       "  <tbody>\n",
       "  </tbody>\n",
       "</table>\n",
       "</div>"
      ],
      "text/plain": [
       "Empty DataFrame\n",
       "Columns: [Show_Id, Category, Title, Director, Cast, Country, Release_Date, Rating, Duration, Type, Description, Year]\n",
       "Index: []"
      ]
     },
     "execution_count": 27,
     "metadata": {},
     "output_type": "execute_result"
    }
   ],
   "source": [
    "#find value or string in df\n",
    "Netflix_df[Netflix_df['Cast'].isin(['Tom Cruise'])]"
   ]
  },
  {
   "cell_type": "markdown",
   "id": "e61361ab",
   "metadata": {
    "papermill": {
     "duration": 0.016153,
     "end_time": "2022-08-12T02:10:13.310060",
     "exception": false,
     "start_time": "2022-08-12T02:10:13.293907",
     "status": "completed"
    },
    "tags": []
   },
   "source": [
    "The above methods don't work, the .str method will have to be used but it won't work unless all null values are dropped. This is where the second dataframe will be used because it does not contain any null values."
   ]
  },
  {
   "cell_type": "code",
   "execution_count": 28,
   "id": "44b5d6c8",
   "metadata": {
    "execution": {
     "iopub.execute_input": "2022-08-12T02:10:13.344919Z",
     "iopub.status.busy": "2022-08-12T02:10:13.344444Z",
     "iopub.status.idle": "2022-08-12T02:10:13.370319Z",
     "shell.execute_reply": "2022-08-12T02:10:13.369068Z"
    },
    "papermill": {
     "duration": 0.046505,
     "end_time": "2022-08-12T02:10:13.373054",
     "exception": false,
     "start_time": "2022-08-12T02:10:13.326549",
     "status": "completed"
    },
    "tags": []
   },
   "outputs": [
    {
     "data": {
      "text/html": [
       "<div>\n",
       "<style scoped>\n",
       "    .dataframe tbody tr th:only-of-type {\n",
       "        vertical-align: middle;\n",
       "    }\n",
       "\n",
       "    .dataframe tbody tr th {\n",
       "        vertical-align: top;\n",
       "    }\n",
       "\n",
       "    .dataframe thead th {\n",
       "        text-align: right;\n",
       "    }\n",
       "</style>\n",
       "<table border=\"1\" class=\"dataframe\">\n",
       "  <thead>\n",
       "    <tr style=\"text-align: right;\">\n",
       "      <th></th>\n",
       "      <th>Show_Id</th>\n",
       "      <th>Category</th>\n",
       "      <th>Title</th>\n",
       "      <th>Director</th>\n",
       "      <th>Cast</th>\n",
       "      <th>Country</th>\n",
       "      <th>Release_Date</th>\n",
       "      <th>Rating</th>\n",
       "      <th>Duration</th>\n",
       "      <th>Type</th>\n",
       "      <th>Description</th>\n",
       "    </tr>\n",
       "  </thead>\n",
       "  <tbody>\n",
       "    <tr>\n",
       "      <th>3860</th>\n",
       "      <td>s3861</td>\n",
       "      <td>Movie</td>\n",
       "      <td>Magnolia</td>\n",
       "      <td>Paul Thomas Anderson</td>\n",
       "      <td>Jeremy Blackman, Tom Cruise, Melinda Dillon, A...</td>\n",
       "      <td>United States</td>\n",
       "      <td>January 1, 2020</td>\n",
       "      <td>R</td>\n",
       "      <td>189 min</td>\n",
       "      <td>Dramas, Independent Movies</td>\n",
       "      <td>Through chance, human action, past history and...</td>\n",
       "    </tr>\n",
       "    <tr>\n",
       "      <th>5071</th>\n",
       "      <td>s5071</td>\n",
       "      <td>Movie</td>\n",
       "      <td>Rain Man</td>\n",
       "      <td>Barry Levinson</td>\n",
       "      <td>Dustin Hoffman, Tom Cruise, Valeria Golino, Ge...</td>\n",
       "      <td>United States</td>\n",
       "      <td>July 1, 2019</td>\n",
       "      <td>R</td>\n",
       "      <td>134 min</td>\n",
       "      <td>Classic Movies, Dramas</td>\n",
       "      <td>A fast-talking yuppie is forced to slow down w...</td>\n",
       "    </tr>\n",
       "  </tbody>\n",
       "</table>\n",
       "</div>"
      ],
      "text/plain": [
       "     Show_Id Category     Title              Director  \\\n",
       "3860   s3861    Movie  Magnolia  Paul Thomas Anderson   \n",
       "5071   s5071    Movie  Rain Man        Barry Levinson   \n",
       "\n",
       "                                                   Cast        Country  \\\n",
       "3860  Jeremy Blackman, Tom Cruise, Melinda Dillon, A...  United States   \n",
       "5071  Dustin Hoffman, Tom Cruise, Valeria Golino, Ge...  United States   \n",
       "\n",
       "         Release_Date Rating Duration                        Type  \\\n",
       "3860  January 1, 2020      R  189 min  Dramas, Independent Movies   \n",
       "5071     July 1, 2019      R  134 min      Classic Movies, Dramas   \n",
       "\n",
       "                                            Description  \n",
       "3860  Through chance, human action, past history and...  \n",
       "5071  A fast-talking yuppie is forced to slow down w...  "
      ]
     },
     "execution_count": 28,
     "metadata": {},
     "output_type": "execute_result"
    }
   ],
   "source": [
    "#use NoNullNetflix_df dataframe for this because of the .str\n",
    "#use string to find cast\n",
    "NoNullNetflix_df[NoNullNetflix_df['Cast'].str.contains('Tom Cruise')]"
   ]
  },
  {
   "cell_type": "markdown",
   "id": "43228249",
   "metadata": {
    "papermill": {
     "duration": 0.018116,
     "end_time": "2022-08-12T02:10:13.409978",
     "exception": false,
     "start_time": "2022-08-12T02:10:13.391862",
     "status": "completed"
    },
    "tags": []
   },
   "source": [
    "# Q9: What are the different ratings defined by netflix?"
   ]
  },
  {
   "cell_type": "code",
   "execution_count": 29,
   "id": "b19a8dfd",
   "metadata": {
    "execution": {
     "iopub.execute_input": "2022-08-12T02:10:13.448297Z",
     "iopub.status.busy": "2022-08-12T02:10:13.447883Z",
     "iopub.status.idle": "2022-08-12T02:10:13.456686Z",
     "shell.execute_reply": "2022-08-12T02:10:13.455190Z"
    },
    "papermill": {
     "duration": 0.031542,
     "end_time": "2022-08-12T02:10:13.459394",
     "exception": false,
     "start_time": "2022-08-12T02:10:13.427852",
     "status": "completed"
    },
    "tags": []
   },
   "outputs": [
    {
     "data": {
      "text/plain": [
       "array(['TV-MA', 'R', 'PG-13', 'TV-14', 'TV-PG', 'NR', 'TV-G', 'TV-Y', nan,\n",
       "       'TV-Y7', 'PG', 'G', 'NC-17', 'TV-Y7-FV', 'UR'], dtype=object)"
      ]
     },
     "execution_count": 29,
     "metadata": {},
     "output_type": "execute_result"
    }
   ],
   "source": [
    "#Get unique values\n",
    "Netflix_df.Rating.unique()"
   ]
  },
  {
   "cell_type": "markdown",
   "id": "d1e83837",
   "metadata": {
    "papermill": {
     "duration": 0.017436,
     "end_time": "2022-08-12T02:10:13.495429",
     "exception": false,
     "start_time": "2022-08-12T02:10:13.477993",
     "status": "completed"
    },
    "tags": []
   },
   "source": [
    "# Q10: How many movies got the TV-14 rating in Canada?"
   ]
  },
  {
   "cell_type": "code",
   "execution_count": 30,
   "id": "616ec412",
   "metadata": {
    "execution": {
     "iopub.execute_input": "2022-08-12T02:10:13.532732Z",
     "iopub.status.busy": "2022-08-12T02:10:13.531927Z",
     "iopub.status.idle": "2022-08-12T02:10:13.542968Z",
     "shell.execute_reply": "2022-08-12T02:10:13.541890Z"
    },
    "papermill": {
     "duration": 0.032586,
     "end_time": "2022-08-12T02:10:13.545460",
     "exception": false,
     "start_time": "2022-08-12T02:10:13.512874",
     "status": "completed"
    },
    "tags": []
   },
   "outputs": [
    {
     "data": {
      "text/plain": [
       "(11, 12)"
      ]
     },
     "execution_count": 30,
     "metadata": {},
     "output_type": "execute_result"
    }
   ],
   "source": [
    "#two conditions must be met\n",
    "#3 conditions must be met\n",
    "Netflix_df[ (Netflix_df['Category']=='Movie') & (Netflix_df['Rating']=='TV-14') & (Netflix_df['Country']=='Canada')].shape"
   ]
  },
  {
   "cell_type": "markdown",
   "id": "d6070fcf",
   "metadata": {
    "papermill": {
     "duration": 0.016223,
     "end_time": "2022-08-12T02:10:13.578293",
     "exception": false,
     "start_time": "2022-08-12T02:10:13.562070",
     "status": "completed"
    },
    "tags": []
   },
   "source": [
    "# Q11: How many tv shows got the R rating after year 2018?"
   ]
  },
  {
   "cell_type": "code",
   "execution_count": 31,
   "id": "629b5d29",
   "metadata": {
    "execution": {
     "iopub.execute_input": "2022-08-12T02:10:13.616101Z",
     "iopub.status.busy": "2022-08-12T02:10:13.615383Z",
     "iopub.status.idle": "2022-08-12T02:10:13.634874Z",
     "shell.execute_reply": "2022-08-12T02:10:13.633691Z"
    },
    "papermill": {
     "duration": 0.042061,
     "end_time": "2022-08-12T02:10:13.637752",
     "exception": false,
     "start_time": "2022-08-12T02:10:13.595691",
     "status": "completed"
    },
    "tags": []
   },
   "outputs": [
    {
     "data": {
      "text/html": [
       "<div>\n",
       "<style scoped>\n",
       "    .dataframe tbody tr th:only-of-type {\n",
       "        vertical-align: middle;\n",
       "    }\n",
       "\n",
       "    .dataframe tbody tr th {\n",
       "        vertical-align: top;\n",
       "    }\n",
       "\n",
       "    .dataframe thead th {\n",
       "        text-align: right;\n",
       "    }\n",
       "</style>\n",
       "<table border=\"1\" class=\"dataframe\">\n",
       "  <thead>\n",
       "    <tr style=\"text-align: right;\">\n",
       "      <th></th>\n",
       "      <th>Show_Id</th>\n",
       "      <th>Category</th>\n",
       "      <th>Title</th>\n",
       "      <th>Director</th>\n",
       "      <th>Cast</th>\n",
       "      <th>Country</th>\n",
       "      <th>Release_Date</th>\n",
       "      <th>Rating</th>\n",
       "      <th>Duration</th>\n",
       "      <th>Type</th>\n",
       "      <th>Description</th>\n",
       "      <th>Year</th>\n",
       "    </tr>\n",
       "  </thead>\n",
       "  <tbody>\n",
       "    <tr>\n",
       "      <th>6437</th>\n",
       "      <td>s6436</td>\n",
       "      <td>TV Show</td>\n",
       "      <td>The Hateful Eight: Extended Version</td>\n",
       "      <td>Quentin Tarantino</td>\n",
       "      <td>Samuel L. Jackson, Kurt Russell, Jennifer Jaso...</td>\n",
       "      <td>NaN</td>\n",
       "      <td>2019-04-25</td>\n",
       "      <td>R</td>\n",
       "      <td>1 Season</td>\n",
       "      <td>TV Shows</td>\n",
       "      <td>Trapped at a stagecoach stop as a storm rages ...</td>\n",
       "      <td>2019.0</td>\n",
       "    </tr>\n",
       "  </tbody>\n",
       "</table>\n",
       "</div>"
      ],
      "text/plain": [
       "     Show_Id Category                                Title           Director  \\\n",
       "6437   s6436  TV Show  The Hateful Eight: Extended Version  Quentin Tarantino   \n",
       "\n",
       "                                                   Cast Country Release_Date  \\\n",
       "6437  Samuel L. Jackson, Kurt Russell, Jennifer Jaso...     NaN   2019-04-25   \n",
       "\n",
       "     Rating  Duration      Type  \\\n",
       "6437      R  1 Season  TV Shows   \n",
       "\n",
       "                                            Description    Year  \n",
       "6437  Trapped at a stagecoach stop as a storm rages ...  2019.0  "
      ]
     },
     "execution_count": 31,
     "metadata": {},
     "output_type": "execute_result"
    }
   ],
   "source": [
    "#two conditions must be met\n",
    "Netflix_df[ (Netflix_df['Category']=='TV Show') & (Netflix_df['Year']>2018) & (Netflix_df['Rating']=='R')]"
   ]
  },
  {
   "cell_type": "markdown",
   "id": "ab37c108",
   "metadata": {
    "papermill": {
     "duration": 0.016914,
     "end_time": "2022-08-12T02:10:13.671373",
     "exception": false,
     "start_time": "2022-08-12T02:10:13.654459",
     "status": "completed"
    },
    "tags": []
   },
   "source": [
    "# Q12: What is the maximum duration of a Movie/Show on Netflix?"
   ]
  },
  {
   "cell_type": "code",
   "execution_count": 32,
   "id": "45433252",
   "metadata": {
    "execution": {
     "iopub.execute_input": "2022-08-12T02:10:13.707132Z",
     "iopub.status.busy": "2022-08-12T02:10:13.706633Z",
     "iopub.status.idle": "2022-08-12T02:10:13.729583Z",
     "shell.execute_reply": "2022-08-12T02:10:13.728544Z"
    },
    "papermill": {
     "duration": 0.044112,
     "end_time": "2022-08-12T02:10:13.732326",
     "exception": false,
     "start_time": "2022-08-12T02:10:13.688214",
     "status": "completed"
    },
    "tags": []
   },
   "outputs": [],
   "source": [
    "#Create two new columns \n",
    "Netflix_df[['Minutes', 'Unit']] = Netflix_df['Duration'].str.split(' ', expand = True)"
   ]
  },
  {
   "cell_type": "code",
   "execution_count": 33,
   "id": "de879ff6",
   "metadata": {
    "execution": {
     "iopub.execute_input": "2022-08-12T02:10:13.769459Z",
     "iopub.status.busy": "2022-08-12T02:10:13.769085Z",
     "iopub.status.idle": "2022-08-12T02:10:13.788860Z",
     "shell.execute_reply": "2022-08-12T02:10:13.787678Z"
    },
    "papermill": {
     "duration": 0.040967,
     "end_time": "2022-08-12T02:10:13.791035",
     "exception": false,
     "start_time": "2022-08-12T02:10:13.750068",
     "status": "completed"
    },
    "tags": []
   },
   "outputs": [
    {
     "data": {
      "text/html": [
       "<div>\n",
       "<style scoped>\n",
       "    .dataframe tbody tr th:only-of-type {\n",
       "        vertical-align: middle;\n",
       "    }\n",
       "\n",
       "    .dataframe tbody tr th {\n",
       "        vertical-align: top;\n",
       "    }\n",
       "\n",
       "    .dataframe thead th {\n",
       "        text-align: right;\n",
       "    }\n",
       "</style>\n",
       "<table border=\"1\" class=\"dataframe\">\n",
       "  <thead>\n",
       "    <tr style=\"text-align: right;\">\n",
       "      <th></th>\n",
       "      <th>Show_Id</th>\n",
       "      <th>Category</th>\n",
       "      <th>Title</th>\n",
       "      <th>Director</th>\n",
       "      <th>Cast</th>\n",
       "      <th>Country</th>\n",
       "      <th>Release_Date</th>\n",
       "      <th>Rating</th>\n",
       "      <th>Duration</th>\n",
       "      <th>Type</th>\n",
       "      <th>Description</th>\n",
       "      <th>Year</th>\n",
       "      <th>Minutes</th>\n",
       "      <th>Unit</th>\n",
       "    </tr>\n",
       "  </thead>\n",
       "  <tbody>\n",
       "    <tr>\n",
       "      <th>0</th>\n",
       "      <td>s1</td>\n",
       "      <td>TV Show</td>\n",
       "      <td>3%</td>\n",
       "      <td>NaN</td>\n",
       "      <td>João Miguel, Bianca Comparato, Michel Gomes, R...</td>\n",
       "      <td>Brazil</td>\n",
       "      <td>2020-08-14</td>\n",
       "      <td>TV-MA</td>\n",
       "      <td>4 Seasons</td>\n",
       "      <td>International TV Shows, TV Dramas, TV Sci-Fi &amp;...</td>\n",
       "      <td>In a future where the elite inhabit an island ...</td>\n",
       "      <td>2020.0</td>\n",
       "      <td>4</td>\n",
       "      <td>Seasons</td>\n",
       "    </tr>\n",
       "    <tr>\n",
       "      <th>1</th>\n",
       "      <td>s2</td>\n",
       "      <td>Movie</td>\n",
       "      <td>07:19</td>\n",
       "      <td>Jorge Michel Grau</td>\n",
       "      <td>Demián Bichir, Héctor Bonilla, Oscar Serrano, ...</td>\n",
       "      <td>Mexico</td>\n",
       "      <td>2016-12-23</td>\n",
       "      <td>TV-MA</td>\n",
       "      <td>93 min</td>\n",
       "      <td>Dramas, International Movies</td>\n",
       "      <td>After a devastating earthquake hits Mexico Cit...</td>\n",
       "      <td>2016.0</td>\n",
       "      <td>93</td>\n",
       "      <td>min</td>\n",
       "    </tr>\n",
       "    <tr>\n",
       "      <th>2</th>\n",
       "      <td>s3</td>\n",
       "      <td>Movie</td>\n",
       "      <td>23:59</td>\n",
       "      <td>Gilbert Chan</td>\n",
       "      <td>Tedd Chan, Stella Chung, Henley Hii, Lawrence ...</td>\n",
       "      <td>Singapore</td>\n",
       "      <td>2018-12-20</td>\n",
       "      <td>R</td>\n",
       "      <td>78 min</td>\n",
       "      <td>Horror Movies, International Movies</td>\n",
       "      <td>When an army recruit is found dead, his fellow...</td>\n",
       "      <td>2018.0</td>\n",
       "      <td>78</td>\n",
       "      <td>min</td>\n",
       "    </tr>\n",
       "    <tr>\n",
       "      <th>3</th>\n",
       "      <td>s4</td>\n",
       "      <td>Movie</td>\n",
       "      <td>9</td>\n",
       "      <td>Shane Acker</td>\n",
       "      <td>Elijah Wood, John C. Reilly, Jennifer Connelly...</td>\n",
       "      <td>United States</td>\n",
       "      <td>2017-11-16</td>\n",
       "      <td>PG-13</td>\n",
       "      <td>80 min</td>\n",
       "      <td>Action &amp; Adventure, Independent Movies, Sci-Fi...</td>\n",
       "      <td>In a postapocalyptic world, rag-doll robots hi...</td>\n",
       "      <td>2017.0</td>\n",
       "      <td>80</td>\n",
       "      <td>min</td>\n",
       "    </tr>\n",
       "    <tr>\n",
       "      <th>4</th>\n",
       "      <td>s5</td>\n",
       "      <td>Movie</td>\n",
       "      <td>21</td>\n",
       "      <td>Robert Luketic</td>\n",
       "      <td>Jim Sturgess, Kevin Spacey, Kate Bosworth, Aar...</td>\n",
       "      <td>United States</td>\n",
       "      <td>2020-01-01</td>\n",
       "      <td>PG-13</td>\n",
       "      <td>123 min</td>\n",
       "      <td>Dramas</td>\n",
       "      <td>A brilliant group of students become card-coun...</td>\n",
       "      <td>2020.0</td>\n",
       "      <td>123</td>\n",
       "      <td>min</td>\n",
       "    </tr>\n",
       "  </tbody>\n",
       "</table>\n",
       "</div>"
      ],
      "text/plain": [
       "  Show_Id Category  Title           Director  \\\n",
       "0      s1  TV Show     3%                NaN   \n",
       "1      s2    Movie  07:19  Jorge Michel Grau   \n",
       "2      s3    Movie  23:59       Gilbert Chan   \n",
       "3      s4    Movie      9        Shane Acker   \n",
       "4      s5    Movie     21     Robert Luketic   \n",
       "\n",
       "                                                Cast        Country  \\\n",
       "0  João Miguel, Bianca Comparato, Michel Gomes, R...         Brazil   \n",
       "1  Demián Bichir, Héctor Bonilla, Oscar Serrano, ...         Mexico   \n",
       "2  Tedd Chan, Stella Chung, Henley Hii, Lawrence ...      Singapore   \n",
       "3  Elijah Wood, John C. Reilly, Jennifer Connelly...  United States   \n",
       "4  Jim Sturgess, Kevin Spacey, Kate Bosworth, Aar...  United States   \n",
       "\n",
       "  Release_Date Rating   Duration  \\\n",
       "0   2020-08-14  TV-MA  4 Seasons   \n",
       "1   2016-12-23  TV-MA     93 min   \n",
       "2   2018-12-20      R     78 min   \n",
       "3   2017-11-16  PG-13     80 min   \n",
       "4   2020-01-01  PG-13    123 min   \n",
       "\n",
       "                                                Type  \\\n",
       "0  International TV Shows, TV Dramas, TV Sci-Fi &...   \n",
       "1                       Dramas, International Movies   \n",
       "2                Horror Movies, International Movies   \n",
       "3  Action & Adventure, Independent Movies, Sci-Fi...   \n",
       "4                                             Dramas   \n",
       "\n",
       "                                         Description    Year Minutes     Unit  \n",
       "0  In a future where the elite inhabit an island ...  2020.0       4  Seasons  \n",
       "1  After a devastating earthquake hits Mexico Cit...  2016.0      93      min  \n",
       "2  When an army recruit is found dead, his fellow...  2018.0      78      min  \n",
       "3  In a postapocalyptic world, rag-doll robots hi...  2017.0      80      min  \n",
       "4  A brilliant group of students become card-coun...  2020.0     123      min  "
      ]
     },
     "execution_count": 33,
     "metadata": {},
     "output_type": "execute_result"
    }
   ],
   "source": [
    "#Confirm the creation of the new columns\n",
    "Netflix_df.head()"
   ]
  },
  {
   "cell_type": "code",
   "execution_count": 34,
   "id": "6e6d39e0",
   "metadata": {
    "execution": {
     "iopub.execute_input": "2022-08-12T02:10:13.828953Z",
     "iopub.status.busy": "2022-08-12T02:10:13.827843Z",
     "iopub.status.idle": "2022-08-12T02:10:13.837062Z",
     "shell.execute_reply": "2022-08-12T02:10:13.835826Z"
    },
    "papermill": {
     "duration": 0.030953,
     "end_time": "2022-08-12T02:10:13.839685",
     "exception": false,
     "start_time": "2022-08-12T02:10:13.808732",
     "status": "completed"
    },
    "tags": []
   },
   "outputs": [
    {
     "data": {
      "text/plain": [
       "'99'"
      ]
     },
     "execution_count": 34,
     "metadata": {},
     "output_type": "execute_result"
    }
   ],
   "source": [
    "#use max method to find maximum values\n",
    "Netflix_df['Minutes'].max()"
   ]
  },
  {
   "cell_type": "markdown",
   "id": "f5a4d3ca",
   "metadata": {
    "papermill": {
     "duration": 0.018618,
     "end_time": "2022-08-12T02:10:13.877889",
     "exception": false,
     "start_time": "2022-08-12T02:10:13.859271",
     "status": "completed"
    },
    "tags": []
   },
   "source": [
    "# Q13: Which individual country has the highest number of tv shows"
   ]
  },
  {
   "cell_type": "code",
   "execution_count": 35,
   "id": "4eb3060c",
   "metadata": {
    "execution": {
     "iopub.execute_input": "2022-08-12T02:10:13.918410Z",
     "iopub.status.busy": "2022-08-12T02:10:13.918026Z",
     "iopub.status.idle": "2022-08-12T02:10:13.928077Z",
     "shell.execute_reply": "2022-08-12T02:10:13.926577Z"
    },
    "papermill": {
     "duration": 0.033731,
     "end_time": "2022-08-12T02:10:13.931014",
     "exception": false,
     "start_time": "2022-08-12T02:10:13.897283",
     "status": "completed"
    },
    "tags": []
   },
   "outputs": [],
   "source": [
    "tv_df=Netflix_df[Netflix_df['Category']=='TV Show']"
   ]
  },
  {
   "cell_type": "code",
   "execution_count": 36,
   "id": "d6a08b59",
   "metadata": {
    "execution": {
     "iopub.execute_input": "2022-08-12T02:10:13.972717Z",
     "iopub.status.busy": "2022-08-12T02:10:13.972285Z",
     "iopub.status.idle": "2022-08-12T02:10:13.995338Z",
     "shell.execute_reply": "2022-08-12T02:10:13.993675Z"
    },
    "papermill": {
     "duration": 0.047114,
     "end_time": "2022-08-12T02:10:13.997898",
     "exception": false,
     "start_time": "2022-08-12T02:10:13.950784",
     "status": "completed"
    },
    "tags": []
   },
   "outputs": [
    {
     "data": {
      "text/html": [
       "<div>\n",
       "<style scoped>\n",
       "    .dataframe tbody tr th:only-of-type {\n",
       "        vertical-align: middle;\n",
       "    }\n",
       "\n",
       "    .dataframe tbody tr th {\n",
       "        vertical-align: top;\n",
       "    }\n",
       "\n",
       "    .dataframe thead th {\n",
       "        text-align: right;\n",
       "    }\n",
       "</style>\n",
       "<table border=\"1\" class=\"dataframe\">\n",
       "  <thead>\n",
       "    <tr style=\"text-align: right;\">\n",
       "      <th></th>\n",
       "      <th>Show_Id</th>\n",
       "      <th>Category</th>\n",
       "      <th>Title</th>\n",
       "      <th>Director</th>\n",
       "      <th>Cast</th>\n",
       "      <th>Country</th>\n",
       "      <th>Release_Date</th>\n",
       "      <th>Rating</th>\n",
       "      <th>Duration</th>\n",
       "      <th>Type</th>\n",
       "      <th>Description</th>\n",
       "      <th>Year</th>\n",
       "      <th>Minutes</th>\n",
       "      <th>Unit</th>\n",
       "    </tr>\n",
       "  </thead>\n",
       "  <tbody>\n",
       "    <tr>\n",
       "      <th>0</th>\n",
       "      <td>s1</td>\n",
       "      <td>TV Show</td>\n",
       "      <td>3%</td>\n",
       "      <td>NaN</td>\n",
       "      <td>João Miguel, Bianca Comparato, Michel Gomes, R...</td>\n",
       "      <td>Brazil</td>\n",
       "      <td>2020-08-14</td>\n",
       "      <td>TV-MA</td>\n",
       "      <td>4 Seasons</td>\n",
       "      <td>International TV Shows, TV Dramas, TV Sci-Fi &amp;...</td>\n",
       "      <td>In a future where the elite inhabit an island ...</td>\n",
       "      <td>2020.0</td>\n",
       "      <td>4</td>\n",
       "      <td>Seasons</td>\n",
       "    </tr>\n",
       "    <tr>\n",
       "      <th>5</th>\n",
       "      <td>s6</td>\n",
       "      <td>TV Show</td>\n",
       "      <td>46</td>\n",
       "      <td>Serdar Akar</td>\n",
       "      <td>Erdal Beşikçioğlu, Yasemin Allen, Melis Birkan...</td>\n",
       "      <td>Turkey</td>\n",
       "      <td>2017-07-01</td>\n",
       "      <td>TV-MA</td>\n",
       "      <td>1 Season</td>\n",
       "      <td>International TV Shows, TV Dramas, TV Mysteries</td>\n",
       "      <td>A genetics professor experiments with a treatm...</td>\n",
       "      <td>2017.0</td>\n",
       "      <td>1</td>\n",
       "      <td>Season</td>\n",
       "    </tr>\n",
       "    <tr>\n",
       "      <th>11</th>\n",
       "      <td>s12</td>\n",
       "      <td>TV Show</td>\n",
       "      <td>1983</td>\n",
       "      <td>NaN</td>\n",
       "      <td>Robert Więckiewicz, Maciej Musiał, Michalina O...</td>\n",
       "      <td>Poland, United States</td>\n",
       "      <td>2018-11-30</td>\n",
       "      <td>TV-MA</td>\n",
       "      <td>1 Season</td>\n",
       "      <td>Crime TV Shows, International TV Shows, TV Dramas</td>\n",
       "      <td>In this dark alt-history thriller, a naïve law...</td>\n",
       "      <td>2018.0</td>\n",
       "      <td>1</td>\n",
       "      <td>Season</td>\n",
       "    </tr>\n",
       "    <tr>\n",
       "      <th>12</th>\n",
       "      <td>s13</td>\n",
       "      <td>TV Show</td>\n",
       "      <td>1994</td>\n",
       "      <td>Diego Enrique Osorno</td>\n",
       "      <td>NaN</td>\n",
       "      <td>Mexico</td>\n",
       "      <td>2019-05-17</td>\n",
       "      <td>TV-MA</td>\n",
       "      <td>1 Season</td>\n",
       "      <td>Crime TV Shows, Docuseries, International TV S...</td>\n",
       "      <td>Archival video and new interviews examine Mexi...</td>\n",
       "      <td>2019.0</td>\n",
       "      <td>1</td>\n",
       "      <td>Season</td>\n",
       "    </tr>\n",
       "    <tr>\n",
       "      <th>16</th>\n",
       "      <td>s17</td>\n",
       "      <td>TV Show</td>\n",
       "      <td>Feb-09</td>\n",
       "      <td>NaN</td>\n",
       "      <td>Shahd El Yaseen, Shaila Sabt, Hala, Hanadi Al-...</td>\n",
       "      <td>NaN</td>\n",
       "      <td>2019-03-20</td>\n",
       "      <td>TV-14</td>\n",
       "      <td>1 Season</td>\n",
       "      <td>International TV Shows, TV Dramas</td>\n",
       "      <td>As a psychology professor faces Alzheimer's, h...</td>\n",
       "      <td>2019.0</td>\n",
       "      <td>1</td>\n",
       "      <td>Season</td>\n",
       "    </tr>\n",
       "  </tbody>\n",
       "</table>\n",
       "</div>"
      ],
      "text/plain": [
       "   Show_Id Category   Title              Director  \\\n",
       "0       s1  TV Show      3%                   NaN   \n",
       "5       s6  TV Show      46           Serdar Akar   \n",
       "11     s12  TV Show    1983                   NaN   \n",
       "12     s13  TV Show    1994  Diego Enrique Osorno   \n",
       "16     s17  TV Show  Feb-09                   NaN   \n",
       "\n",
       "                                                 Cast                Country  \\\n",
       "0   João Miguel, Bianca Comparato, Michel Gomes, R...                 Brazil   \n",
       "5   Erdal Beşikçioğlu, Yasemin Allen, Melis Birkan...                 Turkey   \n",
       "11  Robert Więckiewicz, Maciej Musiał, Michalina O...  Poland, United States   \n",
       "12                                                NaN                 Mexico   \n",
       "16  Shahd El Yaseen, Shaila Sabt, Hala, Hanadi Al-...                    NaN   \n",
       "\n",
       "   Release_Date Rating   Duration  \\\n",
       "0    2020-08-14  TV-MA  4 Seasons   \n",
       "5    2017-07-01  TV-MA   1 Season   \n",
       "11   2018-11-30  TV-MA   1 Season   \n",
       "12   2019-05-17  TV-MA   1 Season   \n",
       "16   2019-03-20  TV-14   1 Season   \n",
       "\n",
       "                                                 Type  \\\n",
       "0   International TV Shows, TV Dramas, TV Sci-Fi &...   \n",
       "5     International TV Shows, TV Dramas, TV Mysteries   \n",
       "11  Crime TV Shows, International TV Shows, TV Dramas   \n",
       "12  Crime TV Shows, Docuseries, International TV S...   \n",
       "16                  International TV Shows, TV Dramas   \n",
       "\n",
       "                                          Description    Year Minutes     Unit  \n",
       "0   In a future where the elite inhabit an island ...  2020.0       4  Seasons  \n",
       "5   A genetics professor experiments with a treatm...  2017.0       1   Season  \n",
       "11  In this dark alt-history thriller, a naïve law...  2018.0       1   Season  \n",
       "12  Archival video and new interviews examine Mexi...  2019.0       1   Season  \n",
       "16  As a psychology professor faces Alzheimer's, h...  2019.0       1   Season  "
      ]
     },
     "execution_count": 36,
     "metadata": {},
     "output_type": "execute_result"
    }
   ],
   "source": [
    "tv_df.head()"
   ]
  },
  {
   "cell_type": "code",
   "execution_count": 37,
   "id": "1fc35700",
   "metadata": {
    "execution": {
     "iopub.execute_input": "2022-08-12T02:10:14.038011Z",
     "iopub.status.busy": "2022-08-12T02:10:14.037500Z",
     "iopub.status.idle": "2022-08-12T02:10:14.047451Z",
     "shell.execute_reply": "2022-08-12T02:10:14.046198Z"
    },
    "papermill": {
     "duration": 0.031931,
     "end_time": "2022-08-12T02:10:14.049612",
     "exception": false,
     "start_time": "2022-08-12T02:10:14.017681",
     "status": "completed"
    },
    "tags": []
   },
   "outputs": [
    {
     "data": {
      "text/plain": [
       "United States                                                705\n",
       "United Kingdom                                               204\n",
       "Japan                                                        157\n",
       "South Korea                                                  147\n",
       "India                                                         71\n",
       "                                                            ... \n",
       "Canada, United States, United Kingdom, France, Luxembourg      1\n",
       "United States, Italy                                           1\n",
       "Chile, Italy                                                   1\n",
       "Canada, United Kingdom                                         1\n",
       "United States, France, South Korea, Indonesia                  1\n",
       "Name: Country, Length: 183, dtype: int64"
      ]
     },
     "execution_count": 37,
     "metadata": {},
     "output_type": "execute_result"
    }
   ],
   "source": [
    "#get value count of Country \n",
    "tv_df.Country.value_counts()"
   ]
  },
  {
   "cell_type": "markdown",
   "id": "32a02059",
   "metadata": {
    "papermill": {
     "duration": 0.017392,
     "end_time": "2022-08-12T02:10:14.085106",
     "exception": false,
     "start_time": "2022-08-12T02:10:14.067714",
     "status": "completed"
    },
    "tags": []
   },
   "source": [
    "# Q14: How can we sort the dataset by year?"
   ]
  },
  {
   "cell_type": "code",
   "execution_count": 38,
   "id": "848cb11a",
   "metadata": {
    "execution": {
     "iopub.execute_input": "2022-08-12T02:10:14.124072Z",
     "iopub.status.busy": "2022-08-12T02:10:14.123671Z",
     "iopub.status.idle": "2022-08-12T02:10:14.156775Z",
     "shell.execute_reply": "2022-08-12T02:10:14.155328Z"
    },
    "papermill": {
     "duration": 0.056427,
     "end_time": "2022-08-12T02:10:14.159572",
     "exception": false,
     "start_time": "2022-08-12T02:10:14.103145",
     "status": "completed"
    },
    "tags": []
   },
   "outputs": [
    {
     "data": {
      "text/html": [
       "<div>\n",
       "<style scoped>\n",
       "    .dataframe tbody tr th:only-of-type {\n",
       "        vertical-align: middle;\n",
       "    }\n",
       "\n",
       "    .dataframe tbody tr th {\n",
       "        vertical-align: top;\n",
       "    }\n",
       "\n",
       "    .dataframe thead th {\n",
       "        text-align: right;\n",
       "    }\n",
       "</style>\n",
       "<table border=\"1\" class=\"dataframe\">\n",
       "  <thead>\n",
       "    <tr style=\"text-align: right;\">\n",
       "      <th></th>\n",
       "      <th>Show_Id</th>\n",
       "      <th>Category</th>\n",
       "      <th>Title</th>\n",
       "      <th>Director</th>\n",
       "      <th>Cast</th>\n",
       "      <th>Country</th>\n",
       "      <th>Release_Date</th>\n",
       "      <th>Rating</th>\n",
       "      <th>Duration</th>\n",
       "      <th>Type</th>\n",
       "      <th>Description</th>\n",
       "      <th>Year</th>\n",
       "      <th>Minutes</th>\n",
       "      <th>Unit</th>\n",
       "    </tr>\n",
       "  </thead>\n",
       "  <tbody>\n",
       "    <tr>\n",
       "      <th>7115</th>\n",
       "      <td>s7114</td>\n",
       "      <td>Movie</td>\n",
       "      <td>To and From New York</td>\n",
       "      <td>Sorin Dan Mihalcescu</td>\n",
       "      <td>Barbara King, Shaana Diya, John Krisiukenas, Y...</td>\n",
       "      <td>United States</td>\n",
       "      <td>2008-01-01</td>\n",
       "      <td>TV-MA</td>\n",
       "      <td>81 min</td>\n",
       "      <td>Dramas, Independent Movies, Thrillers</td>\n",
       "      <td>While covering a story in New York City, a Sea...</td>\n",
       "      <td>2008.0</td>\n",
       "      <td>81</td>\n",
       "      <td>min</td>\n",
       "    </tr>\n",
       "    <tr>\n",
       "      <th>1765</th>\n",
       "      <td>s1766</td>\n",
       "      <td>TV Show</td>\n",
       "      <td>Dinner for Five</td>\n",
       "      <td>NaN</td>\n",
       "      <td>NaN</td>\n",
       "      <td>United States</td>\n",
       "      <td>2008-02-04</td>\n",
       "      <td>TV-MA</td>\n",
       "      <td>1 Season</td>\n",
       "      <td>Stand-Up Comedy &amp; Talk Shows</td>\n",
       "      <td>In each episode, four celebrities join host Jo...</td>\n",
       "      <td>2008.0</td>\n",
       "      <td>1</td>\n",
       "      <td>Season</td>\n",
       "    </tr>\n",
       "    <tr>\n",
       "      <th>3248</th>\n",
       "      <td>s3249</td>\n",
       "      <td>Movie</td>\n",
       "      <td>Just Another Love Story</td>\n",
       "      <td>Ole Bornedal</td>\n",
       "      <td>Anders W. Berthelsen, Rebecka Hemse, Nikolaj L...</td>\n",
       "      <td>Denmark</td>\n",
       "      <td>2009-05-05</td>\n",
       "      <td>TV-MA</td>\n",
       "      <td>104 min</td>\n",
       "      <td>Dramas, International Movies</td>\n",
       "      <td>When he causes a car accident that leaves a yo...</td>\n",
       "      <td>2009.0</td>\n",
       "      <td>104</td>\n",
       "      <td>min</td>\n",
       "    </tr>\n",
       "    <tr>\n",
       "      <th>5766</th>\n",
       "      <td>s5766</td>\n",
       "      <td>Movie</td>\n",
       "      <td>Splatter</td>\n",
       "      <td>Joe Dante</td>\n",
       "      <td>Corey Feldman, Tony Todd, Tara Leigh, Erin Way...</td>\n",
       "      <td>United States</td>\n",
       "      <td>2009-11-18</td>\n",
       "      <td>TV-MA</td>\n",
       "      <td>29 min</td>\n",
       "      <td>Horror Movies</td>\n",
       "      <td>After committing suicide, a washed-up rocker r...</td>\n",
       "      <td>2009.0</td>\n",
       "      <td>29</td>\n",
       "      <td>min</td>\n",
       "    </tr>\n",
       "    <tr>\n",
       "      <th>3840</th>\n",
       "      <td>s3841</td>\n",
       "      <td>Movie</td>\n",
       "      <td>Mad Ron's Prevues from Hell</td>\n",
       "      <td>Jim Monaco</td>\n",
       "      <td>Nick Pawlow, Jordu Schell, Jay Kushwara, Micha...</td>\n",
       "      <td>United States</td>\n",
       "      <td>2010-11-01</td>\n",
       "      <td>NR</td>\n",
       "      <td>84 min</td>\n",
       "      <td>Cult Movies, Horror Movies</td>\n",
       "      <td>This collection cherry-picks trailers, forgott...</td>\n",
       "      <td>2010.0</td>\n",
       "      <td>84</td>\n",
       "      <td>min</td>\n",
       "    </tr>\n",
       "    <tr>\n",
       "      <th>...</th>\n",
       "      <td>...</td>\n",
       "      <td>...</td>\n",
       "      <td>...</td>\n",
       "      <td>...</td>\n",
       "      <td>...</td>\n",
       "      <td>...</td>\n",
       "      <td>...</td>\n",
       "      <td>...</td>\n",
       "      <td>...</td>\n",
       "      <td>...</td>\n",
       "      <td>...</td>\n",
       "      <td>...</td>\n",
       "      <td>...</td>\n",
       "      <td>...</td>\n",
       "    </tr>\n",
       "    <tr>\n",
       "      <th>3374</th>\n",
       "      <td>s3375</td>\n",
       "      <td>TV Show</td>\n",
       "      <td>Kikoriki</td>\n",
       "      <td>NaN</td>\n",
       "      <td>Igor Dmitriev</td>\n",
       "      <td>NaN</td>\n",
       "      <td>NaT</td>\n",
       "      <td>TV-Y</td>\n",
       "      <td>2 Seasons</td>\n",
       "      <td>Kids' TV</td>\n",
       "      <td>A wacky rabbit and his gang of animal pals hav...</td>\n",
       "      <td>NaN</td>\n",
       "      <td>2</td>\n",
       "      <td>Seasons</td>\n",
       "    </tr>\n",
       "    <tr>\n",
       "      <th>3492</th>\n",
       "      <td>s3493</td>\n",
       "      <td>TV Show</td>\n",
       "      <td>La Familia P. Luche</td>\n",
       "      <td>NaN</td>\n",
       "      <td>Eugenio Derbez, Consuelo Duval, Luis Manuel Áv...</td>\n",
       "      <td>United States</td>\n",
       "      <td>NaT</td>\n",
       "      <td>TV-14</td>\n",
       "      <td>3 Seasons</td>\n",
       "      <td>International TV Shows, Spanish-Language TV Sh...</td>\n",
       "      <td>This irreverent sitcom featues Ludovico, Feder...</td>\n",
       "      <td>NaN</td>\n",
       "      <td>3</td>\n",
       "      <td>Seasons</td>\n",
       "    </tr>\n",
       "    <tr>\n",
       "      <th>3946</th>\n",
       "      <td>s3947</td>\n",
       "      <td>TV Show</td>\n",
       "      <td>Maron</td>\n",
       "      <td>NaN</td>\n",
       "      <td>Marc Maron, Judd Hirsch, Josh Brener, Nora Zeh...</td>\n",
       "      <td>United States</td>\n",
       "      <td>NaT</td>\n",
       "      <td>TV-MA</td>\n",
       "      <td>4 Seasons</td>\n",
       "      <td>TV Comedies</td>\n",
       "      <td>Marc Maron stars as Marc Maron, who interviews...</td>\n",
       "      <td>NaN</td>\n",
       "      <td>4</td>\n",
       "      <td>Seasons</td>\n",
       "    </tr>\n",
       "    <tr>\n",
       "      <th>5138</th>\n",
       "      <td>s5138</td>\n",
       "      <td>TV Show</td>\n",
       "      <td>Red vs. Blue</td>\n",
       "      <td>NaN</td>\n",
       "      <td>Burnie Burns, Jason Saldaña, Gustavo Sorola, G...</td>\n",
       "      <td>United States</td>\n",
       "      <td>NaT</td>\n",
       "      <td>NR</td>\n",
       "      <td>13 Seasons</td>\n",
       "      <td>TV Action &amp; Adventure, TV Comedies, TV Sci-Fi ...</td>\n",
       "      <td>This parody of first-person shooter games, mil...</td>\n",
       "      <td>NaN</td>\n",
       "      <td>13</td>\n",
       "      <td>Seasons</td>\n",
       "    </tr>\n",
       "    <tr>\n",
       "      <th>6066</th>\n",
       "      <td>s6066</td>\n",
       "      <td>TV Show</td>\n",
       "      <td>The Adventures of Figaro Pho</td>\n",
       "      <td>NaN</td>\n",
       "      <td>Luke Jurevicius, Craig Behenna, Charlotte Haml...</td>\n",
       "      <td>Australia</td>\n",
       "      <td>NaT</td>\n",
       "      <td>TV-Y7</td>\n",
       "      <td>2 Seasons</td>\n",
       "      <td>Kids' TV, TV Comedies</td>\n",
       "      <td>Imagine your worst fears, then multiply them: ...</td>\n",
       "      <td>NaN</td>\n",
       "      <td>2</td>\n",
       "      <td>Seasons</td>\n",
       "    </tr>\n",
       "  </tbody>\n",
       "</table>\n",
       "<p>7787 rows × 14 columns</p>\n",
       "</div>"
      ],
      "text/plain": [
       "     Show_Id Category                         Title              Director  \\\n",
       "7115   s7114    Movie          To and From New York  Sorin Dan Mihalcescu   \n",
       "1765   s1766  TV Show               Dinner for Five                   NaN   \n",
       "3248   s3249    Movie       Just Another Love Story          Ole Bornedal   \n",
       "5766   s5766    Movie                      Splatter             Joe Dante   \n",
       "3840   s3841    Movie   Mad Ron's Prevues from Hell            Jim Monaco   \n",
       "...      ...      ...                           ...                   ...   \n",
       "3374   s3375  TV Show                      Kikoriki                   NaN   \n",
       "3492   s3493  TV Show           La Familia P. Luche                   NaN   \n",
       "3946   s3947  TV Show                         Maron                   NaN   \n",
       "5138   s5138  TV Show                  Red vs. Blue                   NaN   \n",
       "6066   s6066  TV Show  The Adventures of Figaro Pho                   NaN   \n",
       "\n",
       "                                                   Cast        Country  \\\n",
       "7115  Barbara King, Shaana Diya, John Krisiukenas, Y...  United States   \n",
       "1765                                                NaN  United States   \n",
       "3248  Anders W. Berthelsen, Rebecka Hemse, Nikolaj L...        Denmark   \n",
       "5766  Corey Feldman, Tony Todd, Tara Leigh, Erin Way...  United States   \n",
       "3840  Nick Pawlow, Jordu Schell, Jay Kushwara, Micha...  United States   \n",
       "...                                                 ...            ...   \n",
       "3374                                      Igor Dmitriev            NaN   \n",
       "3492  Eugenio Derbez, Consuelo Duval, Luis Manuel Áv...  United States   \n",
       "3946  Marc Maron, Judd Hirsch, Josh Brener, Nora Zeh...  United States   \n",
       "5138  Burnie Burns, Jason Saldaña, Gustavo Sorola, G...  United States   \n",
       "6066  Luke Jurevicius, Craig Behenna, Charlotte Haml...      Australia   \n",
       "\n",
       "     Release_Date Rating    Duration  \\\n",
       "7115   2008-01-01  TV-MA      81 min   \n",
       "1765   2008-02-04  TV-MA    1 Season   \n",
       "3248   2009-05-05  TV-MA     104 min   \n",
       "5766   2009-11-18  TV-MA      29 min   \n",
       "3840   2010-11-01     NR      84 min   \n",
       "...           ...    ...         ...   \n",
       "3374          NaT   TV-Y   2 Seasons   \n",
       "3492          NaT  TV-14   3 Seasons   \n",
       "3946          NaT  TV-MA   4 Seasons   \n",
       "5138          NaT     NR  13 Seasons   \n",
       "6066          NaT  TV-Y7   2 Seasons   \n",
       "\n",
       "                                                   Type  \\\n",
       "7115              Dramas, Independent Movies, Thrillers   \n",
       "1765                       Stand-Up Comedy & Talk Shows   \n",
       "3248                       Dramas, International Movies   \n",
       "5766                                      Horror Movies   \n",
       "3840                         Cult Movies, Horror Movies   \n",
       "...                                                 ...   \n",
       "3374                                           Kids' TV   \n",
       "3492  International TV Shows, Spanish-Language TV Sh...   \n",
       "3946                                        TV Comedies   \n",
       "5138  TV Action & Adventure, TV Comedies, TV Sci-Fi ...   \n",
       "6066                              Kids' TV, TV Comedies   \n",
       "\n",
       "                                            Description    Year Minutes  \\\n",
       "7115  While covering a story in New York City, a Sea...  2008.0      81   \n",
       "1765  In each episode, four celebrities join host Jo...  2008.0       1   \n",
       "3248  When he causes a car accident that leaves a yo...  2009.0     104   \n",
       "5766  After committing suicide, a washed-up rocker r...  2009.0      29   \n",
       "3840  This collection cherry-picks trailers, forgott...  2010.0      84   \n",
       "...                                                 ...     ...     ...   \n",
       "3374  A wacky rabbit and his gang of animal pals hav...     NaN       2   \n",
       "3492  This irreverent sitcom featues Ludovico, Feder...     NaN       3   \n",
       "3946  Marc Maron stars as Marc Maron, who interviews...     NaN       4   \n",
       "5138  This parody of first-person shooter games, mil...     NaN      13   \n",
       "6066  Imagine your worst fears, then multiply them: ...     NaN       2   \n",
       "\n",
       "         Unit  \n",
       "7115      min  \n",
       "1765   Season  \n",
       "3248      min  \n",
       "5766      min  \n",
       "3840      min  \n",
       "...       ...  \n",
       "3374  Seasons  \n",
       "3492  Seasons  \n",
       "3946  Seasons  \n",
       "5138  Seasons  \n",
       "6066  Seasons  \n",
       "\n",
       "[7787 rows x 14 columns]"
      ]
     },
     "execution_count": 38,
     "metadata": {},
     "output_type": "execute_result"
    }
   ],
   "source": [
    "#main method. By default, it starts from the earliest year\n",
    "Netflix_df.sort_values(by = 'Year')"
   ]
  },
  {
   "cell_type": "code",
   "execution_count": 39,
   "id": "546b84a2",
   "metadata": {
    "execution": {
     "iopub.execute_input": "2022-08-12T02:10:14.203702Z",
     "iopub.status.busy": "2022-08-12T02:10:14.203303Z",
     "iopub.status.idle": "2022-08-12T02:10:14.229780Z",
     "shell.execute_reply": "2022-08-12T02:10:14.228891Z"
    },
    "papermill": {
     "duration": 0.053092,
     "end_time": "2022-08-12T02:10:14.233587",
     "exception": false,
     "start_time": "2022-08-12T02:10:14.180495",
     "status": "completed"
    },
    "tags": []
   },
   "outputs": [
    {
     "data": {
      "text/html": [
       "<div>\n",
       "<style scoped>\n",
       "    .dataframe tbody tr th:only-of-type {\n",
       "        vertical-align: middle;\n",
       "    }\n",
       "\n",
       "    .dataframe tbody tr th {\n",
       "        vertical-align: top;\n",
       "    }\n",
       "\n",
       "    .dataframe thead th {\n",
       "        text-align: right;\n",
       "    }\n",
       "</style>\n",
       "<table border=\"1\" class=\"dataframe\">\n",
       "  <thead>\n",
       "    <tr style=\"text-align: right;\">\n",
       "      <th></th>\n",
       "      <th>Show_Id</th>\n",
       "      <th>Category</th>\n",
       "      <th>Title</th>\n",
       "      <th>Director</th>\n",
       "      <th>Cast</th>\n",
       "      <th>Country</th>\n",
       "      <th>Release_Date</th>\n",
       "      <th>Rating</th>\n",
       "      <th>Duration</th>\n",
       "      <th>Type</th>\n",
       "      <th>Description</th>\n",
       "      <th>Year</th>\n",
       "      <th>Minutes</th>\n",
       "      <th>Unit</th>\n",
       "    </tr>\n",
       "  </thead>\n",
       "  <tbody>\n",
       "    <tr>\n",
       "      <th>5564</th>\n",
       "      <td>s5564</td>\n",
       "      <td>Movie</td>\n",
       "      <td>Sherlock Holmes</td>\n",
       "      <td>Guy Ritchie</td>\n",
       "      <td>Robert Downey Jr., Jude Law, Rachel McAdams, M...</td>\n",
       "      <td>United States, Germany, United Kingdom, Australia</td>\n",
       "      <td>2021-01-01</td>\n",
       "      <td>PG-13</td>\n",
       "      <td>128 min</td>\n",
       "      <td>Action &amp; Adventure, Comedies</td>\n",
       "      <td>The game is afoot for an eccentric detective w...</td>\n",
       "      <td>2021.0</td>\n",
       "      <td>128</td>\n",
       "      <td>min</td>\n",
       "    </tr>\n",
       "    <tr>\n",
       "      <th>5919</th>\n",
       "      <td>s5919</td>\n",
       "      <td>Movie</td>\n",
       "      <td>Surf's Up</td>\n",
       "      <td>Ash Brannon, Chris Buck</td>\n",
       "      <td>Shia LaBeouf, Jeff Bridges, Zooey Deschanel, J...</td>\n",
       "      <td>United States</td>\n",
       "      <td>2021-01-01</td>\n",
       "      <td>PG</td>\n",
       "      <td>86 min</td>\n",
       "      <td>Children &amp; Family Movies, Comedies, Sports Movies</td>\n",
       "      <td>This Oscar-nominated animated comedy goes behi...</td>\n",
       "      <td>2021.0</td>\n",
       "      <td>86</td>\n",
       "      <td>min</td>\n",
       "    </tr>\n",
       "    <tr>\n",
       "      <th>980</th>\n",
       "      <td>s981</td>\n",
       "      <td>TV Show</td>\n",
       "      <td>Bling Empire</td>\n",
       "      <td>NaN</td>\n",
       "      <td>NaN</td>\n",
       "      <td>NaN</td>\n",
       "      <td>2021-01-15</td>\n",
       "      <td>TV-MA</td>\n",
       "      <td>1 Season</td>\n",
       "      <td>Reality TV</td>\n",
       "      <td>Follow LA's wildly wealthy Asian and Asian Ame...</td>\n",
       "      <td>2021.0</td>\n",
       "      <td>1</td>\n",
       "      <td>Season</td>\n",
       "    </tr>\n",
       "    <tr>\n",
       "      <th>5955</th>\n",
       "      <td>s5955</td>\n",
       "      <td>Movie</td>\n",
       "      <td>Taare Zameen Par</td>\n",
       "      <td>Aamir Khan</td>\n",
       "      <td>Aamir Khan, Darsheel Safary, Tanay Chheda, Tis...</td>\n",
       "      <td>India</td>\n",
       "      <td>2021-01-10</td>\n",
       "      <td>PG</td>\n",
       "      <td>162 min</td>\n",
       "      <td>Dramas, International Movies</td>\n",
       "      <td>When daydreamer Ishaan is sent to boarding sch...</td>\n",
       "      <td>2021.0</td>\n",
       "      <td>162</td>\n",
       "      <td>min</td>\n",
       "    </tr>\n",
       "    <tr>\n",
       "      <th>366</th>\n",
       "      <td>s367</td>\n",
       "      <td>Movie</td>\n",
       "      <td>Al acecho</td>\n",
       "      <td>Francisco D'Eufemia</td>\n",
       "      <td>Rodrigo de la Serna, Belen Blanco, Walter Jako...</td>\n",
       "      <td>NaN</td>\n",
       "      <td>2021-01-12</td>\n",
       "      <td>TV-MA</td>\n",
       "      <td>81 min</td>\n",
       "      <td>International Movies, Thrillers</td>\n",
       "      <td>Looking for a fresh start, a park ranger gets ...</td>\n",
       "      <td>2021.0</td>\n",
       "      <td>81</td>\n",
       "      <td>min</td>\n",
       "    </tr>\n",
       "    <tr>\n",
       "      <th>560</th>\n",
       "      <td>s561</td>\n",
       "      <td>Movie</td>\n",
       "      <td>Apaharan</td>\n",
       "      <td>Prakash Jha</td>\n",
       "      <td>Ajay Devgn, Nana Patekar, Bipasha Basu, Ayub K...</td>\n",
       "      <td>India</td>\n",
       "      <td>2021-01-08</td>\n",
       "      <td>TV-14</td>\n",
       "      <td>161 min</td>\n",
       "      <td>Dramas, International Movies</td>\n",
       "      <td>Raised under the condescending eye of his acti...</td>\n",
       "      <td>2021.0</td>\n",
       "      <td>161</td>\n",
       "      <td>min</td>\n",
       "    </tr>\n",
       "    <tr>\n",
       "      <th>1355</th>\n",
       "      <td>s1356</td>\n",
       "      <td>Movie</td>\n",
       "      <td>Chris Rock Total Blackout: The Tamborine Exten...</td>\n",
       "      <td>Chris Rock</td>\n",
       "      <td>Chris Rock</td>\n",
       "      <td>NaN</td>\n",
       "      <td>2021-01-12</td>\n",
       "      <td>TV-MA</td>\n",
       "      <td>98 min</td>\n",
       "      <td>Stand-Up Comedy</td>\n",
       "      <td>In this extended cut of his 2018 special, Chri...</td>\n",
       "      <td>2021.0</td>\n",
       "      <td>98</td>\n",
       "      <td>min</td>\n",
       "    </tr>\n",
       "    <tr>\n",
       "      <th>5922</th>\n",
       "      <td>s5922</td>\n",
       "      <td>TV Show</td>\n",
       "      <td>Surviving Death</td>\n",
       "      <td>NaN</td>\n",
       "      <td>NaN</td>\n",
       "      <td>United States</td>\n",
       "      <td>2021-01-06</td>\n",
       "      <td>TV-MA</td>\n",
       "      <td>1 Season</td>\n",
       "      <td>Docuseries, Reality TV</td>\n",
       "      <td>What happens after we die? This docuseries exp...</td>\n",
       "      <td>2021.0</td>\n",
       "      <td>1</td>\n",
       "      <td>Season</td>\n",
       "    </tr>\n",
       "    <tr>\n",
       "      <th>4269</th>\n",
       "      <td>s4270</td>\n",
       "      <td>Movie</td>\n",
       "      <td>Mud</td>\n",
       "      <td>Jeff Nichols</td>\n",
       "      <td>Matthew McConaughey, Reese Witherspoon, Tye Sh...</td>\n",
       "      <td>United States</td>\n",
       "      <td>2021-01-01</td>\n",
       "      <td>PG-13</td>\n",
       "      <td>131 min</td>\n",
       "      <td>Dramas, Independent Movies</td>\n",
       "      <td>Two Mississippi teens meet peculiar drifter Mu...</td>\n",
       "      <td>2021.0</td>\n",
       "      <td>131</td>\n",
       "      <td>min</td>\n",
       "    </tr>\n",
       "    <tr>\n",
       "      <th>2799</th>\n",
       "      <td>s2800</td>\n",
       "      <td>Movie</td>\n",
       "      <td>Hook</td>\n",
       "      <td>Steven Spielberg</td>\n",
       "      <td>Dustin Hoffman, Robin Williams, Julia Roberts,...</td>\n",
       "      <td>United States</td>\n",
       "      <td>2021-01-15</td>\n",
       "      <td>PG</td>\n",
       "      <td>142 min</td>\n",
       "      <td>Children &amp; Family Movies</td>\n",
       "      <td>Peter Pan, now grown up and a workaholic, must...</td>\n",
       "      <td>2021.0</td>\n",
       "      <td>142</td>\n",
       "      <td>min</td>\n",
       "    </tr>\n",
       "  </tbody>\n",
       "</table>\n",
       "</div>"
      ],
      "text/plain": [
       "     Show_Id Category                                              Title  \\\n",
       "5564   s5564    Movie                                    Sherlock Holmes   \n",
       "5919   s5919    Movie                                          Surf's Up   \n",
       "980     s981  TV Show                                       Bling Empire   \n",
       "5955   s5955    Movie                                   Taare Zameen Par   \n",
       "366     s367    Movie                                          Al acecho   \n",
       "560     s561    Movie                                           Apaharan   \n",
       "1355   s1356    Movie  Chris Rock Total Blackout: The Tamborine Exten...   \n",
       "5922   s5922  TV Show                                    Surviving Death   \n",
       "4269   s4270    Movie                                                Mud   \n",
       "2799   s2800    Movie                                               Hook   \n",
       "\n",
       "                     Director  \\\n",
       "5564              Guy Ritchie   \n",
       "5919  Ash Brannon, Chris Buck   \n",
       "980                       NaN   \n",
       "5955               Aamir Khan   \n",
       "366       Francisco D'Eufemia   \n",
       "560               Prakash Jha   \n",
       "1355               Chris Rock   \n",
       "5922                      NaN   \n",
       "4269             Jeff Nichols   \n",
       "2799         Steven Spielberg   \n",
       "\n",
       "                                                   Cast  \\\n",
       "5564  Robert Downey Jr., Jude Law, Rachel McAdams, M...   \n",
       "5919  Shia LaBeouf, Jeff Bridges, Zooey Deschanel, J...   \n",
       "980                                                 NaN   \n",
       "5955  Aamir Khan, Darsheel Safary, Tanay Chheda, Tis...   \n",
       "366   Rodrigo de la Serna, Belen Blanco, Walter Jako...   \n",
       "560   Ajay Devgn, Nana Patekar, Bipasha Basu, Ayub K...   \n",
       "1355                                         Chris Rock   \n",
       "5922                                                NaN   \n",
       "4269  Matthew McConaughey, Reese Witherspoon, Tye Sh...   \n",
       "2799  Dustin Hoffman, Robin Williams, Julia Roberts,...   \n",
       "\n",
       "                                                Country Release_Date Rating  \\\n",
       "5564  United States, Germany, United Kingdom, Australia   2021-01-01  PG-13   \n",
       "5919                                      United States   2021-01-01     PG   \n",
       "980                                                 NaN   2021-01-15  TV-MA   \n",
       "5955                                              India   2021-01-10     PG   \n",
       "366                                                 NaN   2021-01-12  TV-MA   \n",
       "560                                               India   2021-01-08  TV-14   \n",
       "1355                                                NaN   2021-01-12  TV-MA   \n",
       "5922                                      United States   2021-01-06  TV-MA   \n",
       "4269                                      United States   2021-01-01  PG-13   \n",
       "2799                                      United States   2021-01-15     PG   \n",
       "\n",
       "      Duration                                               Type  \\\n",
       "5564   128 min                       Action & Adventure, Comedies   \n",
       "5919    86 min  Children & Family Movies, Comedies, Sports Movies   \n",
       "980   1 Season                                         Reality TV   \n",
       "5955   162 min                       Dramas, International Movies   \n",
       "366     81 min                    International Movies, Thrillers   \n",
       "560    161 min                       Dramas, International Movies   \n",
       "1355    98 min                                    Stand-Up Comedy   \n",
       "5922  1 Season                             Docuseries, Reality TV   \n",
       "4269   131 min                         Dramas, Independent Movies   \n",
       "2799   142 min                           Children & Family Movies   \n",
       "\n",
       "                                            Description    Year Minutes  \\\n",
       "5564  The game is afoot for an eccentric detective w...  2021.0     128   \n",
       "5919  This Oscar-nominated animated comedy goes behi...  2021.0      86   \n",
       "980   Follow LA's wildly wealthy Asian and Asian Ame...  2021.0       1   \n",
       "5955  When daydreamer Ishaan is sent to boarding sch...  2021.0     162   \n",
       "366   Looking for a fresh start, a park ranger gets ...  2021.0      81   \n",
       "560   Raised under the condescending eye of his acti...  2021.0     161   \n",
       "1355  In this extended cut of his 2018 special, Chri...  2021.0      98   \n",
       "5922  What happens after we die? This docuseries exp...  2021.0       1   \n",
       "4269  Two Mississippi teens meet peculiar drifter Mu...  2021.0     131   \n",
       "2799  Peter Pan, now grown up and a workaholic, must...  2021.0     142   \n",
       "\n",
       "        Unit  \n",
       "5564     min  \n",
       "5919     min  \n",
       "980   Season  \n",
       "5955     min  \n",
       "366      min  \n",
       "560      min  \n",
       "1355     min  \n",
       "5922  Season  \n",
       "4269     min  \n",
       "2799     min  "
      ]
     },
     "execution_count": 39,
     "metadata": {},
     "output_type": "execute_result"
    }
   ],
   "source": [
    "Netflix_df.sort_values(by = 'Year', ascending =False).head(10)"
   ]
  },
  {
   "cell_type": "code",
   "execution_count": 40,
   "id": "ab37a220",
   "metadata": {
    "execution": {
     "iopub.execute_input": "2022-08-12T02:10:14.279557Z",
     "iopub.status.busy": "2022-08-12T02:10:14.278953Z",
     "iopub.status.idle": "2022-08-12T02:10:14.309907Z",
     "shell.execute_reply": "2022-08-12T02:10:14.308627Z"
    },
    "papermill": {
     "duration": 0.055065,
     "end_time": "2022-08-12T02:10:14.312526",
     "exception": false,
     "start_time": "2022-08-12T02:10:14.257461",
     "status": "completed"
    },
    "tags": []
   },
   "outputs": [
    {
     "data": {
      "text/html": [
       "<div>\n",
       "<style scoped>\n",
       "    .dataframe tbody tr th:only-of-type {\n",
       "        vertical-align: middle;\n",
       "    }\n",
       "\n",
       "    .dataframe tbody tr th {\n",
       "        vertical-align: top;\n",
       "    }\n",
       "\n",
       "    .dataframe thead th {\n",
       "        text-align: right;\n",
       "    }\n",
       "</style>\n",
       "<table border=\"1\" class=\"dataframe\">\n",
       "  <thead>\n",
       "    <tr style=\"text-align: right;\">\n",
       "      <th></th>\n",
       "      <th>Show_Id</th>\n",
       "      <th>Category</th>\n",
       "      <th>Title</th>\n",
       "      <th>Director</th>\n",
       "      <th>Cast</th>\n",
       "      <th>Country</th>\n",
       "      <th>Release_Date</th>\n",
       "      <th>Rating</th>\n",
       "      <th>Duration</th>\n",
       "      <th>Type</th>\n",
       "      <th>Description</th>\n",
       "      <th>Year</th>\n",
       "      <th>Minutes</th>\n",
       "      <th>Unit</th>\n",
       "    </tr>\n",
       "  </thead>\n",
       "  <tbody>\n",
       "    <tr>\n",
       "      <th>7115</th>\n",
       "      <td>s7114</td>\n",
       "      <td>Movie</td>\n",
       "      <td>To and From New York</td>\n",
       "      <td>Sorin Dan Mihalcescu</td>\n",
       "      <td>Barbara King, Shaana Diya, John Krisiukenas, Y...</td>\n",
       "      <td>United States</td>\n",
       "      <td>2008-01-01</td>\n",
       "      <td>TV-MA</td>\n",
       "      <td>81 min</td>\n",
       "      <td>Dramas, Independent Movies, Thrillers</td>\n",
       "      <td>While covering a story in New York City, a Sea...</td>\n",
       "      <td>2008.0</td>\n",
       "      <td>81</td>\n",
       "      <td>min</td>\n",
       "    </tr>\n",
       "    <tr>\n",
       "      <th>1765</th>\n",
       "      <td>s1766</td>\n",
       "      <td>TV Show</td>\n",
       "      <td>Dinner for Five</td>\n",
       "      <td>NaN</td>\n",
       "      <td>NaN</td>\n",
       "      <td>United States</td>\n",
       "      <td>2008-02-04</td>\n",
       "      <td>TV-MA</td>\n",
       "      <td>1 Season</td>\n",
       "      <td>Stand-Up Comedy &amp; Talk Shows</td>\n",
       "      <td>In each episode, four celebrities join host Jo...</td>\n",
       "      <td>2008.0</td>\n",
       "      <td>1</td>\n",
       "      <td>Season</td>\n",
       "    </tr>\n",
       "    <tr>\n",
       "      <th>3248</th>\n",
       "      <td>s3249</td>\n",
       "      <td>Movie</td>\n",
       "      <td>Just Another Love Story</td>\n",
       "      <td>Ole Bornedal</td>\n",
       "      <td>Anders W. Berthelsen, Rebecka Hemse, Nikolaj L...</td>\n",
       "      <td>Denmark</td>\n",
       "      <td>2009-05-05</td>\n",
       "      <td>TV-MA</td>\n",
       "      <td>104 min</td>\n",
       "      <td>Dramas, International Movies</td>\n",
       "      <td>When he causes a car accident that leaves a yo...</td>\n",
       "      <td>2009.0</td>\n",
       "      <td>104</td>\n",
       "      <td>min</td>\n",
       "    </tr>\n",
       "    <tr>\n",
       "      <th>5766</th>\n",
       "      <td>s5766</td>\n",
       "      <td>Movie</td>\n",
       "      <td>Splatter</td>\n",
       "      <td>Joe Dante</td>\n",
       "      <td>Corey Feldman, Tony Todd, Tara Leigh, Erin Way...</td>\n",
       "      <td>United States</td>\n",
       "      <td>2009-11-18</td>\n",
       "      <td>TV-MA</td>\n",
       "      <td>29 min</td>\n",
       "      <td>Horror Movies</td>\n",
       "      <td>After committing suicide, a washed-up rocker r...</td>\n",
       "      <td>2009.0</td>\n",
       "      <td>29</td>\n",
       "      <td>min</td>\n",
       "    </tr>\n",
       "    <tr>\n",
       "      <th>3840</th>\n",
       "      <td>s3841</td>\n",
       "      <td>Movie</td>\n",
       "      <td>Mad Ron's Prevues from Hell</td>\n",
       "      <td>Jim Monaco</td>\n",
       "      <td>Nick Pawlow, Jordu Schell, Jay Kushwara, Micha...</td>\n",
       "      <td>United States</td>\n",
       "      <td>2010-11-01</td>\n",
       "      <td>NR</td>\n",
       "      <td>84 min</td>\n",
       "      <td>Cult Movies, Horror Movies</td>\n",
       "      <td>This collection cherry-picks trailers, forgott...</td>\n",
       "      <td>2010.0</td>\n",
       "      <td>84</td>\n",
       "      <td>min</td>\n",
       "    </tr>\n",
       "    <tr>\n",
       "      <th>6847</th>\n",
       "      <td>s6846</td>\n",
       "      <td>Movie</td>\n",
       "      <td>The Ryan White Story</td>\n",
       "      <td>John Herzfeld</td>\n",
       "      <td>Judith Light, Lukas Haas, Michael Bowen, Nikki...</td>\n",
       "      <td>United States</td>\n",
       "      <td>2011-10-01</td>\n",
       "      <td>TV-PG</td>\n",
       "      <td>94 min</td>\n",
       "      <td>Dramas</td>\n",
       "      <td>After contracting HIV from a tainted blood tre...</td>\n",
       "      <td>2011.0</td>\n",
       "      <td>94</td>\n",
       "      <td>min</td>\n",
       "    </tr>\n",
       "    <tr>\n",
       "      <th>308</th>\n",
       "      <td>s309</td>\n",
       "      <td>Movie</td>\n",
       "      <td>Adam: His Song Continues</td>\n",
       "      <td>Robert Markowitz</td>\n",
       "      <td>Daniel J. Travanti, JoBeth Williams, Richard M...</td>\n",
       "      <td>United States</td>\n",
       "      <td>2011-10-01</td>\n",
       "      <td>TV-MA</td>\n",
       "      <td>96 min</td>\n",
       "      <td>Dramas</td>\n",
       "      <td>After their child was abducted and murdered, J...</td>\n",
       "      <td>2011.0</td>\n",
       "      <td>96</td>\n",
       "      <td>min</td>\n",
       "    </tr>\n",
       "    <tr>\n",
       "      <th>7416</th>\n",
       "      <td>s7415</td>\n",
       "      <td>Movie</td>\n",
       "      <td>Victim of Beauty</td>\n",
       "      <td>Roger Young</td>\n",
       "      <td>William Devane, Jeri Ryan, Michele Abrams, Nic...</td>\n",
       "      <td>United States</td>\n",
       "      <td>2011-10-01</td>\n",
       "      <td>TV-14</td>\n",
       "      <td>93 min</td>\n",
       "      <td>Dramas, Thrillers</td>\n",
       "      <td>A beauty pageant winner is stalked by a serial...</td>\n",
       "      <td>2011.0</td>\n",
       "      <td>93</td>\n",
       "      <td>min</td>\n",
       "    </tr>\n",
       "    <tr>\n",
       "      <th>7232</th>\n",
       "      <td>s7231</td>\n",
       "      <td>Movie</td>\n",
       "      <td>Triumph of the Heart</td>\n",
       "      <td>Richard Michaels</td>\n",
       "      <td>Mario Van Peebles, Susan Ruttan, Lane R. Davis...</td>\n",
       "      <td>United States</td>\n",
       "      <td>2011-10-01</td>\n",
       "      <td>TV-PG</td>\n",
       "      <td>93 min</td>\n",
       "      <td>Dramas, Sports Movies</td>\n",
       "      <td>This drama tells the tale of Ricky Bell, a pro...</td>\n",
       "      <td>2011.0</td>\n",
       "      <td>93</td>\n",
       "      <td>min</td>\n",
       "    </tr>\n",
       "    <tr>\n",
       "      <th>7364</th>\n",
       "      <td>s7363</td>\n",
       "      <td>Movie</td>\n",
       "      <td>Unspeakable Acts</td>\n",
       "      <td>Linda Otto</td>\n",
       "      <td>Jill Clayburgh, Brad Davis, Sam Behrens</td>\n",
       "      <td>United States</td>\n",
       "      <td>2011-10-01</td>\n",
       "      <td>TV-14</td>\n",
       "      <td>95 min</td>\n",
       "      <td>Dramas</td>\n",
       "      <td>Laurie and Joseph are doctors who interview se...</td>\n",
       "      <td>2011.0</td>\n",
       "      <td>95</td>\n",
       "      <td>min</td>\n",
       "    </tr>\n",
       "  </tbody>\n",
       "</table>\n",
       "</div>"
      ],
      "text/plain": [
       "     Show_Id Category                        Title              Director  \\\n",
       "7115   s7114    Movie         To and From New York  Sorin Dan Mihalcescu   \n",
       "1765   s1766  TV Show              Dinner for Five                   NaN   \n",
       "3248   s3249    Movie      Just Another Love Story          Ole Bornedal   \n",
       "5766   s5766    Movie                     Splatter             Joe Dante   \n",
       "3840   s3841    Movie  Mad Ron's Prevues from Hell            Jim Monaco   \n",
       "6847   s6846    Movie         The Ryan White Story         John Herzfeld   \n",
       "308     s309    Movie     Adam: His Song Continues      Robert Markowitz   \n",
       "7416   s7415    Movie             Victim of Beauty           Roger Young   \n",
       "7232   s7231    Movie         Triumph of the Heart      Richard Michaels   \n",
       "7364   s7363    Movie             Unspeakable Acts            Linda Otto   \n",
       "\n",
       "                                                   Cast        Country  \\\n",
       "7115  Barbara King, Shaana Diya, John Krisiukenas, Y...  United States   \n",
       "1765                                                NaN  United States   \n",
       "3248  Anders W. Berthelsen, Rebecka Hemse, Nikolaj L...        Denmark   \n",
       "5766  Corey Feldman, Tony Todd, Tara Leigh, Erin Way...  United States   \n",
       "3840  Nick Pawlow, Jordu Schell, Jay Kushwara, Micha...  United States   \n",
       "6847  Judith Light, Lukas Haas, Michael Bowen, Nikki...  United States   \n",
       "308   Daniel J. Travanti, JoBeth Williams, Richard M...  United States   \n",
       "7416  William Devane, Jeri Ryan, Michele Abrams, Nic...  United States   \n",
       "7232  Mario Van Peebles, Susan Ruttan, Lane R. Davis...  United States   \n",
       "7364            Jill Clayburgh, Brad Davis, Sam Behrens  United States   \n",
       "\n",
       "     Release_Date Rating  Duration                                   Type  \\\n",
       "7115   2008-01-01  TV-MA    81 min  Dramas, Independent Movies, Thrillers   \n",
       "1765   2008-02-04  TV-MA  1 Season           Stand-Up Comedy & Talk Shows   \n",
       "3248   2009-05-05  TV-MA   104 min           Dramas, International Movies   \n",
       "5766   2009-11-18  TV-MA    29 min                          Horror Movies   \n",
       "3840   2010-11-01     NR    84 min             Cult Movies, Horror Movies   \n",
       "6847   2011-10-01  TV-PG    94 min                                 Dramas   \n",
       "308    2011-10-01  TV-MA    96 min                                 Dramas   \n",
       "7416   2011-10-01  TV-14    93 min                      Dramas, Thrillers   \n",
       "7232   2011-10-01  TV-PG    93 min                  Dramas, Sports Movies   \n",
       "7364   2011-10-01  TV-14    95 min                                 Dramas   \n",
       "\n",
       "                                            Description    Year Minutes  \\\n",
       "7115  While covering a story in New York City, a Sea...  2008.0      81   \n",
       "1765  In each episode, four celebrities join host Jo...  2008.0       1   \n",
       "3248  When he causes a car accident that leaves a yo...  2009.0     104   \n",
       "5766  After committing suicide, a washed-up rocker r...  2009.0      29   \n",
       "3840  This collection cherry-picks trailers, forgott...  2010.0      84   \n",
       "6847  After contracting HIV from a tainted blood tre...  2011.0      94   \n",
       "308   After their child was abducted and murdered, J...  2011.0      96   \n",
       "7416  A beauty pageant winner is stalked by a serial...  2011.0      93   \n",
       "7232  This drama tells the tale of Ricky Bell, a pro...  2011.0      93   \n",
       "7364  Laurie and Joseph are doctors who interview se...  2011.0      95   \n",
       "\n",
       "        Unit  \n",
       "7115     min  \n",
       "1765  Season  \n",
       "3248     min  \n",
       "5766     min  \n",
       "3840     min  \n",
       "6847     min  \n",
       "308      min  \n",
       "7416     min  \n",
       "7232     min  \n",
       "7364     min  "
      ]
     },
     "execution_count": 40,
     "metadata": {},
     "output_type": "execute_result"
    }
   ],
   "source": [
    "#2nd method \n",
    "Netflix_df.sort_values(by = 'Year', ascending =True).head(10)"
   ]
  },
  {
   "cell_type": "markdown",
   "id": "8a277d48",
   "metadata": {
    "papermill": {
     "duration": 0.020717,
     "end_time": "2022-08-12T02:10:14.355138",
     "exception": false,
     "start_time": "2022-08-12T02:10:14.334421",
     "status": "completed"
    },
    "tags": []
   },
   "source": [
    "# Conclusion\n",
    "\n",
    "All questions have been answered using analysis with Python. "
   ]
  }
 ],
 "metadata": {
  "kernelspec": {
   "display_name": "Python 3",
   "language": "python",
   "name": "python3"
  },
  "language_info": {
   "codemirror_mode": {
    "name": "ipython",
    "version": 3
   },
   "file_extension": ".py",
   "mimetype": "text/x-python",
   "name": "python",
   "nbconvert_exporter": "python",
   "pygments_lexer": "ipython3",
   "version": "3.7.12"
  },
  "papermill": {
   "default_parameters": {},
   "duration": 15.481693,
   "end_time": "2022-08-12T02:10:15.199303",
   "environment_variables": {},
   "exception": null,
   "input_path": "__notebook__.ipynb",
   "output_path": "__notebook__.ipynb",
   "parameters": {},
   "start_time": "2022-08-12T02:09:59.717610",
   "version": "2.3.4"
  }
 },
 "nbformat": 4,
 "nbformat_minor": 5
}
